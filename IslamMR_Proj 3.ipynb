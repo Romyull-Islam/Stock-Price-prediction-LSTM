{
  "nbformat": 4,
  "nbformat_minor": 0,
  "metadata": {
    "accelerator": "GPU",
    "colab": {
      "name": "stock price.ipynb",
      "provenance": [],
      "collapsed_sections": []
    },
    "kernelspec": {
      "display_name": "Python 3",
      "name": "python3"
    },
    "language_info": {
      "name": "python"
    }
  },
  "cells": [
    {
      "cell_type": "code",
      "metadata": {
        "id": "mTIhNiL09PYe"
      },
      "source": [
        "### Data Collection\n",
        "import os\n",
        "import pandas_datareader as pdr"
      ],
      "execution_count": 1,
      "outputs": []
    },
    {
      "cell_type": "code",
      "metadata": {
        "id": "Pugf3sh89tiO"
      },
      "source": [
        "#df = pdr.get_data_tiingo('GOOG', api_key=os.getenv('TIINGO_API_KEY'))"
      ],
      "execution_count": 2,
      "outputs": []
    },
    {
      "cell_type": "code",
      "metadata": {
        "id": "XYZzGJit9vzt"
      },
      "source": [
        "#df.to_csv('AAPL.csv')"
      ],
      "execution_count": 3,
      "outputs": []
    },
    {
      "cell_type": "code",
      "metadata": {
        "colab": {
          "base_uri": "https://localhost:8080/"
        },
        "id": "LWJ4zTxpORbV",
        "outputId": "2bfab15f-a240-47f0-a16d-1ba35e806df6"
      },
      "source": [
        "from google.colab import drive\n",
        "drive.mount('/content/drive')"
      ],
      "execution_count": 4,
      "outputs": [
        {
          "output_type": "stream",
          "name": "stdout",
          "text": [
            "Mounted at /content/drive\n"
          ]
        }
      ]
    },
    {
      "cell_type": "code",
      "metadata": {
        "id": "ZaK28VIX98a6"
      },
      "source": [
        "import pandas as pd"
      ],
      "execution_count": 5,
      "outputs": []
    },
    {
      "cell_type": "code",
      "metadata": {
        "id": "btDIcYuT99Qo"
      },
      "source": [
        "df1=pd.read_csv('/content/drive/MyDrive/Colab Notebooks/Stock market/GOOGL.csv')\n",
        "df2=pd.read_csv('/content/drive/MyDrive/Colab Notebooks/Stock market/AAPL.csv')\n"
      ],
      "execution_count": 6,
      "outputs": []
    },
    {
      "cell_type": "code",
      "metadata": {
        "colab": {
          "base_uri": "https://localhost:8080/",
          "height": 206
        },
        "id": "KZ5i10Wa-Jky",
        "outputId": "c7bb154a-5ef9-42f8-ac5e-f8bd7de4df07"
      },
      "source": [
        "df1.head()\n"
      ],
      "execution_count": 7,
      "outputs": [
        {
          "output_type": "execute_result",
          "data": {
            "text/html": [
              "<div>\n",
              "<style scoped>\n",
              "    .dataframe tbody tr th:only-of-type {\n",
              "        vertical-align: middle;\n",
              "    }\n",
              "\n",
              "    .dataframe tbody tr th {\n",
              "        vertical-align: top;\n",
              "    }\n",
              "\n",
              "    .dataframe thead th {\n",
              "        text-align: right;\n",
              "    }\n",
              "</style>\n",
              "<table border=\"1\" class=\"dataframe\">\n",
              "  <thead>\n",
              "    <tr style=\"text-align: right;\">\n",
              "      <th></th>\n",
              "      <th>Date</th>\n",
              "      <th>Open</th>\n",
              "      <th>High</th>\n",
              "      <th>Low</th>\n",
              "      <th>Close</th>\n",
              "      <th>Adj Close</th>\n",
              "      <th>Volume</th>\n",
              "    </tr>\n",
              "  </thead>\n",
              "  <tbody>\n",
              "    <tr>\n",
              "      <th>0</th>\n",
              "      <td>2013-12-05</td>\n",
              "      <td>529.129150</td>\n",
              "      <td>530.360352</td>\n",
              "      <td>526.071045</td>\n",
              "      <td>529.199219</td>\n",
              "      <td>529.199219</td>\n",
              "      <td>2265133</td>\n",
              "    </tr>\n",
              "    <tr>\n",
              "      <th>1</th>\n",
              "      <td>2013-12-06</td>\n",
              "      <td>535.430420</td>\n",
              "      <td>535.535522</td>\n",
              "      <td>530.570557</td>\n",
              "      <td>535.470459</td>\n",
              "      <td>535.470459</td>\n",
              "      <td>2854742</td>\n",
              "    </tr>\n",
              "    <tr>\n",
              "      <th>2</th>\n",
              "      <td>2013-12-09</td>\n",
              "      <td>536.031006</td>\n",
              "      <td>541.696716</td>\n",
              "      <td>534.544556</td>\n",
              "      <td>539.609619</td>\n",
              "      <td>539.609619</td>\n",
              "      <td>2962235</td>\n",
              "    </tr>\n",
              "    <tr>\n",
              "      <th>3</th>\n",
              "      <td>2013-12-10</td>\n",
              "      <td>538.613586</td>\n",
              "      <td>546.701721</td>\n",
              "      <td>538.363342</td>\n",
              "      <td>542.872864</td>\n",
              "      <td>542.872864</td>\n",
              "      <td>3704092</td>\n",
              "    </tr>\n",
              "    <tr>\n",
              "      <th>4</th>\n",
              "      <td>2013-12-11</td>\n",
              "      <td>544.244263</td>\n",
              "      <td>546.206177</td>\n",
              "      <td>538.123108</td>\n",
              "      <td>539.184204</td>\n",
              "      <td>539.184204</td>\n",
              "      <td>3420176</td>\n",
              "    </tr>\n",
              "  </tbody>\n",
              "</table>\n",
              "</div>"
            ],
            "text/plain": [
              "         Date        Open        High  ...       Close   Adj Close   Volume\n",
              "0  2013-12-05  529.129150  530.360352  ...  529.199219  529.199219  2265133\n",
              "1  2013-12-06  535.430420  535.535522  ...  535.470459  535.470459  2854742\n",
              "2  2013-12-09  536.031006  541.696716  ...  539.609619  539.609619  2962235\n",
              "3  2013-12-10  538.613586  546.701721  ...  542.872864  542.872864  3704092\n",
              "4  2013-12-11  544.244263  546.206177  ...  539.184204  539.184204  3420176\n",
              "\n",
              "[5 rows x 7 columns]"
            ]
          },
          "metadata": {},
          "execution_count": 7
        }
      ]
    },
    {
      "cell_type": "code",
      "metadata": {
        "colab": {
          "base_uri": "https://localhost:8080/",
          "height": 300
        },
        "id": "vN1jefJRCaLG",
        "outputId": "7e7f6b08-714c-4db9-fc76-c039ca9a0acf"
      },
      "source": [
        "df1.describe().round(2)"
      ],
      "execution_count": 8,
      "outputs": [
        {
          "output_type": "execute_result",
          "data": {
            "text/html": [
              "<div>\n",
              "<style scoped>\n",
              "    .dataframe tbody tr th:only-of-type {\n",
              "        vertical-align: middle;\n",
              "    }\n",
              "\n",
              "    .dataframe tbody tr th {\n",
              "        vertical-align: top;\n",
              "    }\n",
              "\n",
              "    .dataframe thead th {\n",
              "        text-align: right;\n",
              "    }\n",
              "</style>\n",
              "<table border=\"1\" class=\"dataframe\">\n",
              "  <thead>\n",
              "    <tr style=\"text-align: right;\">\n",
              "      <th></th>\n",
              "      <th>Open</th>\n",
              "      <th>High</th>\n",
              "      <th>Low</th>\n",
              "      <th>Close</th>\n",
              "      <th>Adj Close</th>\n",
              "      <th>Volume</th>\n",
              "    </tr>\n",
              "  </thead>\n",
              "  <tbody>\n",
              "    <tr>\n",
              "      <th>count</th>\n",
              "      <td>2014.00</td>\n",
              "      <td>2014.00</td>\n",
              "      <td>2014.00</td>\n",
              "      <td>2014.00</td>\n",
              "      <td>2014.00</td>\n",
              "      <td>2014.00</td>\n",
              "    </tr>\n",
              "    <tr>\n",
              "      <th>mean</th>\n",
              "      <td>1123.95</td>\n",
              "      <td>1134.28</td>\n",
              "      <td>1113.28</td>\n",
              "      <td>1124.22</td>\n",
              "      <td>1124.22</td>\n",
              "      <td>1955765.91</td>\n",
              "    </tr>\n",
              "    <tr>\n",
              "      <th>std</th>\n",
              "      <td>579.06</td>\n",
              "      <td>584.48</td>\n",
              "      <td>573.86</td>\n",
              "      <td>579.49</td>\n",
              "      <td>579.49</td>\n",
              "      <td>1068292.26</td>\n",
              "    </tr>\n",
              "    <tr>\n",
              "      <th>min</th>\n",
              "      <td>499.24</td>\n",
              "      <td>500.28</td>\n",
              "      <td>490.91</td>\n",
              "      <td>497.06</td>\n",
              "      <td>497.06</td>\n",
              "      <td>465600.00</td>\n",
              "    </tr>\n",
              "    <tr>\n",
              "      <th>25%</th>\n",
              "      <td>715.35</td>\n",
              "      <td>723.63</td>\n",
              "      <td>706.60</td>\n",
              "      <td>715.79</td>\n",
              "      <td>715.79</td>\n",
              "      <td>1316075.00</td>\n",
              "    </tr>\n",
              "    <tr>\n",
              "      <th>50%</th>\n",
              "      <td>1031.23</td>\n",
              "      <td>1044.36</td>\n",
              "      <td>1016.02</td>\n",
              "      <td>1030.95</td>\n",
              "      <td>1030.95</td>\n",
              "      <td>1655000.00</td>\n",
              "    </tr>\n",
              "    <tr>\n",
              "      <th>75%</th>\n",
              "      <td>1266.81</td>\n",
              "      <td>1276.58</td>\n",
              "      <td>1252.69</td>\n",
              "      <td>1265.08</td>\n",
              "      <td>1265.08</td>\n",
              "      <td>2227775.00</td>\n",
              "    </tr>\n",
              "    <tr>\n",
              "      <th>max</th>\n",
              "      <td>2999.51</td>\n",
              "      <td>3019.33</td>\n",
              "      <td>2977.98</td>\n",
              "      <td>2996.77</td>\n",
              "      <td>2996.77</td>\n",
              "      <td>12858100.00</td>\n",
              "    </tr>\n",
              "  </tbody>\n",
              "</table>\n",
              "</div>"
            ],
            "text/plain": [
              "          Open     High      Low    Close  Adj Close       Volume\n",
              "count  2014.00  2014.00  2014.00  2014.00    2014.00      2014.00\n",
              "mean   1123.95  1134.28  1113.28  1124.22    1124.22   1955765.91\n",
              "std     579.06   584.48   573.86   579.49     579.49   1068292.26\n",
              "min     499.24   500.28   490.91   497.06     497.06    465600.00\n",
              "25%     715.35   723.63   706.60   715.79     715.79   1316075.00\n",
              "50%    1031.23  1044.36  1016.02  1030.95    1030.95   1655000.00\n",
              "75%    1266.81  1276.58  1252.69  1265.08    1265.08   2227775.00\n",
              "max    2999.51  3019.33  2977.98  2996.77    2996.77  12858100.00"
            ]
          },
          "metadata": {},
          "execution_count": 8
        }
      ]
    },
    {
      "cell_type": "code",
      "metadata": {
        "colab": {
          "base_uri": "https://localhost:8080/",
          "height": 206
        },
        "id": "NdbhmFryzOX6",
        "outputId": "09cf849b-f3f8-4726-b9d7-047025a171d4"
      },
      "source": [
        "df2.head()"
      ],
      "execution_count": 9,
      "outputs": [
        {
          "output_type": "execute_result",
          "data": {
            "text/html": [
              "<div>\n",
              "<style scoped>\n",
              "    .dataframe tbody tr th:only-of-type {\n",
              "        vertical-align: middle;\n",
              "    }\n",
              "\n",
              "    .dataframe tbody tr th {\n",
              "        vertical-align: top;\n",
              "    }\n",
              "\n",
              "    .dataframe thead th {\n",
              "        text-align: right;\n",
              "    }\n",
              "</style>\n",
              "<table border=\"1\" class=\"dataframe\">\n",
              "  <thead>\n",
              "    <tr style=\"text-align: right;\">\n",
              "      <th></th>\n",
              "      <th>Date</th>\n",
              "      <th>Open</th>\n",
              "      <th>High</th>\n",
              "      <th>Low</th>\n",
              "      <th>Close</th>\n",
              "      <th>Adj Close</th>\n",
              "      <th>Volume</th>\n",
              "    </tr>\n",
              "  </thead>\n",
              "  <tbody>\n",
              "    <tr>\n",
              "      <th>0</th>\n",
              "      <td>2013-12-05</td>\n",
              "      <td>20.451786</td>\n",
              "      <td>20.540714</td>\n",
              "      <td>20.228930</td>\n",
              "      <td>20.282143</td>\n",
              "      <td>17.984343</td>\n",
              "      <td>447580000</td>\n",
              "    </tr>\n",
              "    <tr>\n",
              "      <th>1</th>\n",
              "      <td>2013-12-06</td>\n",
              "      <td>20.206785</td>\n",
              "      <td>20.241072</td>\n",
              "      <td>19.984644</td>\n",
              "      <td>20.000713</td>\n",
              "      <td>17.734802</td>\n",
              "      <td>344352400</td>\n",
              "    </tr>\n",
              "    <tr>\n",
              "      <th>2</th>\n",
              "      <td>2013-12-09</td>\n",
              "      <td>20.032143</td>\n",
              "      <td>20.342142</td>\n",
              "      <td>20.032143</td>\n",
              "      <td>20.229643</td>\n",
              "      <td>17.937792</td>\n",
              "      <td>320493600</td>\n",
              "    </tr>\n",
              "    <tr>\n",
              "      <th>3</th>\n",
              "      <td>2013-12-10</td>\n",
              "      <td>20.127857</td>\n",
              "      <td>20.281429</td>\n",
              "      <td>20.042856</td>\n",
              "      <td>20.198214</td>\n",
              "      <td>17.909925</td>\n",
              "      <td>278269600</td>\n",
              "    </tr>\n",
              "    <tr>\n",
              "      <th>4</th>\n",
              "      <td>2013-12-11</td>\n",
              "      <td>20.250000</td>\n",
              "      <td>20.391787</td>\n",
              "      <td>19.988930</td>\n",
              "      <td>20.048571</td>\n",
              "      <td>17.777233</td>\n",
              "      <td>359718800</td>\n",
              "    </tr>\n",
              "  </tbody>\n",
              "</table>\n",
              "</div>"
            ],
            "text/plain": [
              "         Date       Open       High        Low      Close  Adj Close     Volume\n",
              "0  2013-12-05  20.451786  20.540714  20.228930  20.282143  17.984343  447580000\n",
              "1  2013-12-06  20.206785  20.241072  19.984644  20.000713  17.734802  344352400\n",
              "2  2013-12-09  20.032143  20.342142  20.032143  20.229643  17.937792  320493600\n",
              "3  2013-12-10  20.127857  20.281429  20.042856  20.198214  17.909925  278269600\n",
              "4  2013-12-11  20.250000  20.391787  19.988930  20.048571  17.777233  359718800"
            ]
          },
          "metadata": {},
          "execution_count": 9
        }
      ]
    },
    {
      "cell_type": "code",
      "metadata": {
        "colab": {
          "base_uri": "https://localhost:8080/",
          "height": 300
        },
        "id": "JMrSjPbRFuWq",
        "outputId": "8287f543-bcb0-4727-af86-09bdfb4acd33"
      },
      "source": [
        "df1.describe().round(2)"
      ],
      "execution_count": 10,
      "outputs": [
        {
          "output_type": "execute_result",
          "data": {
            "text/html": [
              "<div>\n",
              "<style scoped>\n",
              "    .dataframe tbody tr th:only-of-type {\n",
              "        vertical-align: middle;\n",
              "    }\n",
              "\n",
              "    .dataframe tbody tr th {\n",
              "        vertical-align: top;\n",
              "    }\n",
              "\n",
              "    .dataframe thead th {\n",
              "        text-align: right;\n",
              "    }\n",
              "</style>\n",
              "<table border=\"1\" class=\"dataframe\">\n",
              "  <thead>\n",
              "    <tr style=\"text-align: right;\">\n",
              "      <th></th>\n",
              "      <th>Open</th>\n",
              "      <th>High</th>\n",
              "      <th>Low</th>\n",
              "      <th>Close</th>\n",
              "      <th>Adj Close</th>\n",
              "      <th>Volume</th>\n",
              "    </tr>\n",
              "  </thead>\n",
              "  <tbody>\n",
              "    <tr>\n",
              "      <th>count</th>\n",
              "      <td>2014.00</td>\n",
              "      <td>2014.00</td>\n",
              "      <td>2014.00</td>\n",
              "      <td>2014.00</td>\n",
              "      <td>2014.00</td>\n",
              "      <td>2014.00</td>\n",
              "    </tr>\n",
              "    <tr>\n",
              "      <th>mean</th>\n",
              "      <td>1123.95</td>\n",
              "      <td>1134.28</td>\n",
              "      <td>1113.28</td>\n",
              "      <td>1124.22</td>\n",
              "      <td>1124.22</td>\n",
              "      <td>1955765.91</td>\n",
              "    </tr>\n",
              "    <tr>\n",
              "      <th>std</th>\n",
              "      <td>579.06</td>\n",
              "      <td>584.48</td>\n",
              "      <td>573.86</td>\n",
              "      <td>579.49</td>\n",
              "      <td>579.49</td>\n",
              "      <td>1068292.26</td>\n",
              "    </tr>\n",
              "    <tr>\n",
              "      <th>min</th>\n",
              "      <td>499.24</td>\n",
              "      <td>500.28</td>\n",
              "      <td>490.91</td>\n",
              "      <td>497.06</td>\n",
              "      <td>497.06</td>\n",
              "      <td>465600.00</td>\n",
              "    </tr>\n",
              "    <tr>\n",
              "      <th>25%</th>\n",
              "      <td>715.35</td>\n",
              "      <td>723.63</td>\n",
              "      <td>706.60</td>\n",
              "      <td>715.79</td>\n",
              "      <td>715.79</td>\n",
              "      <td>1316075.00</td>\n",
              "    </tr>\n",
              "    <tr>\n",
              "      <th>50%</th>\n",
              "      <td>1031.23</td>\n",
              "      <td>1044.36</td>\n",
              "      <td>1016.02</td>\n",
              "      <td>1030.95</td>\n",
              "      <td>1030.95</td>\n",
              "      <td>1655000.00</td>\n",
              "    </tr>\n",
              "    <tr>\n",
              "      <th>75%</th>\n",
              "      <td>1266.81</td>\n",
              "      <td>1276.58</td>\n",
              "      <td>1252.69</td>\n",
              "      <td>1265.08</td>\n",
              "      <td>1265.08</td>\n",
              "      <td>2227775.00</td>\n",
              "    </tr>\n",
              "    <tr>\n",
              "      <th>max</th>\n",
              "      <td>2999.51</td>\n",
              "      <td>3019.33</td>\n",
              "      <td>2977.98</td>\n",
              "      <td>2996.77</td>\n",
              "      <td>2996.77</td>\n",
              "      <td>12858100.00</td>\n",
              "    </tr>\n",
              "  </tbody>\n",
              "</table>\n",
              "</div>"
            ],
            "text/plain": [
              "          Open     High      Low    Close  Adj Close       Volume\n",
              "count  2014.00  2014.00  2014.00  2014.00    2014.00      2014.00\n",
              "mean   1123.95  1134.28  1113.28  1124.22    1124.22   1955765.91\n",
              "std     579.06   584.48   573.86   579.49     579.49   1068292.26\n",
              "min     499.24   500.28   490.91   497.06     497.06    465600.00\n",
              "25%     715.35   723.63   706.60   715.79     715.79   1316075.00\n",
              "50%    1031.23  1044.36  1016.02  1030.95    1030.95   1655000.00\n",
              "75%    1266.81  1276.58  1252.69  1265.08    1265.08   2227775.00\n",
              "max    2999.51  3019.33  2977.98  2996.77    2996.77  12858100.00"
            ]
          },
          "metadata": {},
          "execution_count": 10
        }
      ]
    },
    {
      "cell_type": "code",
      "metadata": {
        "colab": {
          "base_uri": "https://localhost:8080/",
          "height": 206
        },
        "id": "zCFGGYOs-M-q",
        "outputId": "dc4e2f0b-17b9-4f01-9cfd-d8f2744854d8"
      },
      "source": [
        "df1.tail()\n"
      ],
      "execution_count": 11,
      "outputs": [
        {
          "output_type": "execute_result",
          "data": {
            "text/html": [
              "<div>\n",
              "<style scoped>\n",
              "    .dataframe tbody tr th:only-of-type {\n",
              "        vertical-align: middle;\n",
              "    }\n",
              "\n",
              "    .dataframe tbody tr th {\n",
              "        vertical-align: top;\n",
              "    }\n",
              "\n",
              "    .dataframe thead th {\n",
              "        text-align: right;\n",
              "    }\n",
              "</style>\n",
              "<table border=\"1\" class=\"dataframe\">\n",
              "  <thead>\n",
              "    <tr style=\"text-align: right;\">\n",
              "      <th></th>\n",
              "      <th>Date</th>\n",
              "      <th>Open</th>\n",
              "      <th>High</th>\n",
              "      <th>Low</th>\n",
              "      <th>Close</th>\n",
              "      <th>Adj Close</th>\n",
              "      <th>Volume</th>\n",
              "    </tr>\n",
              "  </thead>\n",
              "  <tbody>\n",
              "    <tr>\n",
              "      <th>2009</th>\n",
              "      <td>2021-11-29</td>\n",
              "      <td>2880.000000</td>\n",
              "      <td>2925.949951</td>\n",
              "      <td>2877.870117</td>\n",
              "      <td>2910.610107</td>\n",
              "      <td>2910.610107</td>\n",
              "      <td>1629800</td>\n",
              "    </tr>\n",
              "    <tr>\n",
              "      <th>2010</th>\n",
              "      <td>2021-11-30</td>\n",
              "      <td>2900.169922</td>\n",
              "      <td>2920.000000</td>\n",
              "      <td>2832.030029</td>\n",
              "      <td>2837.949951</td>\n",
              "      <td>2837.949951</td>\n",
              "      <td>2103400</td>\n",
              "    </tr>\n",
              "    <tr>\n",
              "      <th>2011</th>\n",
              "      <td>2021-12-01</td>\n",
              "      <td>2880.000000</td>\n",
              "      <td>2919.010010</td>\n",
              "      <td>2818.239990</td>\n",
              "      <td>2821.030029</td>\n",
              "      <td>2821.030029</td>\n",
              "      <td>1701000</td>\n",
              "    </tr>\n",
              "    <tr>\n",
              "      <th>2012</th>\n",
              "      <td>2021-12-02</td>\n",
              "      <td>2825.000000</td>\n",
              "      <td>2877.290039</td>\n",
              "      <td>2804.290039</td>\n",
              "      <td>2859.320068</td>\n",
              "      <td>2859.320068</td>\n",
              "      <td>1459700</td>\n",
              "    </tr>\n",
              "    <tr>\n",
              "      <th>2013</th>\n",
              "      <td>2021-12-03</td>\n",
              "      <td>2873.620117</td>\n",
              "      <td>2888.000000</td>\n",
              "      <td>2806.020020</td>\n",
              "      <td>2840.030029</td>\n",
              "      <td>2840.030029</td>\n",
              "      <td>2060800</td>\n",
              "    </tr>\n",
              "  </tbody>\n",
              "</table>\n",
              "</div>"
            ],
            "text/plain": [
              "            Date         Open         High  ...        Close    Adj Close   Volume\n",
              "2009  2021-11-29  2880.000000  2925.949951  ...  2910.610107  2910.610107  1629800\n",
              "2010  2021-11-30  2900.169922  2920.000000  ...  2837.949951  2837.949951  2103400\n",
              "2011  2021-12-01  2880.000000  2919.010010  ...  2821.030029  2821.030029  1701000\n",
              "2012  2021-12-02  2825.000000  2877.290039  ...  2859.320068  2859.320068  1459700\n",
              "2013  2021-12-03  2873.620117  2888.000000  ...  2840.030029  2840.030029  2060800\n",
              "\n",
              "[5 rows x 7 columns]"
            ]
          },
          "metadata": {},
          "execution_count": 11
        }
      ]
    },
    {
      "cell_type": "code",
      "metadata": {
        "colab": {
          "base_uri": "https://localhost:8080/",
          "height": 206
        },
        "id": "8oM0cqV_zQt5",
        "outputId": "853dc106-e69e-453a-aa6c-b24ba8f82c77"
      },
      "source": [
        "df2.tail()"
      ],
      "execution_count": 12,
      "outputs": [
        {
          "output_type": "execute_result",
          "data": {
            "text/html": [
              "<div>\n",
              "<style scoped>\n",
              "    .dataframe tbody tr th:only-of-type {\n",
              "        vertical-align: middle;\n",
              "    }\n",
              "\n",
              "    .dataframe tbody tr th {\n",
              "        vertical-align: top;\n",
              "    }\n",
              "\n",
              "    .dataframe thead th {\n",
              "        text-align: right;\n",
              "    }\n",
              "</style>\n",
              "<table border=\"1\" class=\"dataframe\">\n",
              "  <thead>\n",
              "    <tr style=\"text-align: right;\">\n",
              "      <th></th>\n",
              "      <th>Date</th>\n",
              "      <th>Open</th>\n",
              "      <th>High</th>\n",
              "      <th>Low</th>\n",
              "      <th>Close</th>\n",
              "      <th>Adj Close</th>\n",
              "      <th>Volume</th>\n",
              "    </tr>\n",
              "  </thead>\n",
              "  <tbody>\n",
              "    <tr>\n",
              "      <th>2009</th>\n",
              "      <td>2021-11-29</td>\n",
              "      <td>159.369995</td>\n",
              "      <td>161.190002</td>\n",
              "      <td>158.789993</td>\n",
              "      <td>160.240005</td>\n",
              "      <td>160.240005</td>\n",
              "      <td>88748200</td>\n",
              "    </tr>\n",
              "    <tr>\n",
              "      <th>2010</th>\n",
              "      <td>2021-11-30</td>\n",
              "      <td>159.990005</td>\n",
              "      <td>165.520004</td>\n",
              "      <td>159.919998</td>\n",
              "      <td>165.300003</td>\n",
              "      <td>165.300003</td>\n",
              "      <td>174048100</td>\n",
              "    </tr>\n",
              "    <tr>\n",
              "      <th>2011</th>\n",
              "      <td>2021-12-01</td>\n",
              "      <td>167.479996</td>\n",
              "      <td>170.300003</td>\n",
              "      <td>164.529999</td>\n",
              "      <td>164.770004</td>\n",
              "      <td>164.770004</td>\n",
              "      <td>152052500</td>\n",
              "    </tr>\n",
              "    <tr>\n",
              "      <th>2012</th>\n",
              "      <td>2021-12-02</td>\n",
              "      <td>158.740005</td>\n",
              "      <td>164.199997</td>\n",
              "      <td>157.800003</td>\n",
              "      <td>163.759995</td>\n",
              "      <td>163.759995</td>\n",
              "      <td>136739200</td>\n",
              "    </tr>\n",
              "    <tr>\n",
              "      <th>2013</th>\n",
              "      <td>2021-12-03</td>\n",
              "      <td>164.020004</td>\n",
              "      <td>164.960007</td>\n",
              "      <td>159.720001</td>\n",
              "      <td>161.839996</td>\n",
              "      <td>161.839996</td>\n",
              "      <td>117938300</td>\n",
              "    </tr>\n",
              "  </tbody>\n",
              "</table>\n",
              "</div>"
            ],
            "text/plain": [
              "            Date        Open        High  ...       Close   Adj Close     Volume\n",
              "2009  2021-11-29  159.369995  161.190002  ...  160.240005  160.240005   88748200\n",
              "2010  2021-11-30  159.990005  165.520004  ...  165.300003  165.300003  174048100\n",
              "2011  2021-12-01  167.479996  170.300003  ...  164.770004  164.770004  152052500\n",
              "2012  2021-12-02  158.740005  164.199997  ...  163.759995  163.759995  136739200\n",
              "2013  2021-12-03  164.020004  164.960007  ...  161.839996  161.839996  117938300\n",
              "\n",
              "[5 rows x 7 columns]"
            ]
          },
          "metadata": {},
          "execution_count": 12
        }
      ]
    },
    {
      "cell_type": "code",
      "metadata": {
        "id": "7kzcHvP--N2v"
      },
      "source": [
        "df1=df1.reset_index()['Adj Close']\n",
        "df2=df2.reset_index()['Adj Close']"
      ],
      "execution_count": 13,
      "outputs": []
    },
    {
      "cell_type": "code",
      "metadata": {
        "colab": {
          "base_uri": "https://localhost:8080/"
        },
        "id": "fguRYG85-QWy",
        "outputId": "6910db84-d159-4d13-cc30-15f0ef95bf42"
      },
      "source": [
        "df1"
      ],
      "execution_count": 14,
      "outputs": [
        {
          "output_type": "execute_result",
          "data": {
            "text/plain": [
              "0        529.199219\n",
              "1        535.470459\n",
              "2        539.609619\n",
              "3        542.872864\n",
              "4        539.184204\n",
              "           ...     \n",
              "2009    2910.610107\n",
              "2010    2837.949951\n",
              "2011    2821.030029\n",
              "2012    2859.320068\n",
              "2013    2840.030029\n",
              "Name: Adj Close, Length: 2014, dtype: float64"
            ]
          },
          "metadata": {},
          "execution_count": 14
        }
      ]
    },
    {
      "cell_type": "code",
      "metadata": {
        "colab": {
          "base_uri": "https://localhost:8080/"
        },
        "id": "aQvQaUw_zTd4",
        "outputId": "0ff16e46-05ac-4043-8e6f-580adab20fd9"
      },
      "source": [
        "df2"
      ],
      "execution_count": 15,
      "outputs": [
        {
          "output_type": "execute_result",
          "data": {
            "text/plain": [
              "0        17.984343\n",
              "1        17.734802\n",
              "2        17.937792\n",
              "3        17.909925\n",
              "4        17.777233\n",
              "           ...    \n",
              "2009    160.240005\n",
              "2010    165.300003\n",
              "2011    164.770004\n",
              "2012    163.759995\n",
              "2013    161.839996\n",
              "Name: Adj Close, Length: 2014, dtype: float64"
            ]
          },
          "metadata": {},
          "execution_count": 15
        }
      ]
    },
    {
      "cell_type": "code",
      "metadata": {
        "colab": {
          "base_uri": "https://localhost:8080/",
          "height": 325
        },
        "id": "4ZRUua44-SZS",
        "outputId": "40304e1f-faae-4d93-e1f0-5fc4a75cc939"
      },
      "source": [
        "import matplotlib.pyplot as plt\n",
        "plt.plot(df1,'r')\n",
        "plt.ylabel('price')\n",
        "plt.xlabel('Days')\n",
        "plt.suptitle('Google')"
      ],
      "execution_count": 16,
      "outputs": [
        {
          "output_type": "execute_result",
          "data": {
            "text/plain": [
              "Text(0.5, 0.98, 'Google')"
            ]
          },
          "metadata": {},
          "execution_count": 16
        },
        {
          "output_type": "display_data",
          "data": {
            "image/png": "[encoded data removed]",
            "text/plain": [
              "<Figure size 432x288 with 1 Axes>"
            ]
          },
          "metadata": {
            "needs_background": "light"
          }
        }
      ]
    },
    {
      "cell_type": "code",
      "metadata": {
        "colab": {
          "base_uri": "https://localhost:8080/",
          "height": 325
        },
        "id": "Ds0-M-ykzZN-",
        "outputId": "3be755f1-cea9-457d-b31c-2b0ae6536dc8"
      },
      "source": [
        "plt.plot(df2, 'k')\n",
        "plt.ylabel('price')\n",
        "plt.xlabel('Days')\n",
        "plt.suptitle('Apple')"
      ],
      "execution_count": 17,
      "outputs": [
        {
          "output_type": "execute_result",
          "data": {
            "text/plain": [
              "Text(0.5, 0.98, 'Apple')"
            ]
          },
          "metadata": {},
          "execution_count": 17
        },
        {
          "output_type": "display_data",
          "data": {
            "image/png": "[encoded data removed]",
            "text/plain": [
              "<Figure size 432x288 with 1 Axes>"
            ]
          },
          "metadata": {
            "needs_background": "light"
          }
        }
      ]
    },
    {
      "cell_type": "code",
      "metadata": {
        "id": "LqVIF5FH-U9k"
      },
      "source": [
        "import numpy as np"
      ],
      "execution_count": 18,
      "outputs": []
    },
    {
      "cell_type": "markdown",
      "source": [
        "###Before scalling\n"
      ],
      "metadata": {
        "id": "gjjN3aRRTCrz"
      }
    },
    {
      "cell_type": "code",
      "metadata": {
        "colab": {
          "base_uri": "https://localhost:8080/"
        },
        "id": "CuKfmJPY-c_X",
        "outputId": "07b319b7-719d-4129-e71a-f17667ea0812"
      },
      "source": [
        "\n",
        "df1\n"
      ],
      "execution_count": 19,
      "outputs": [
        {
          "output_type": "execute_result",
          "data": {
            "text/plain": [
              "0        529.199219\n",
              "1        535.470459\n",
              "2        539.609619\n",
              "3        542.872864\n",
              "4        539.184204\n",
              "           ...     \n",
              "2009    2910.610107\n",
              "2010    2837.949951\n",
              "2011    2821.030029\n",
              "2012    2859.320068\n",
              "2013    2840.030029\n",
              "Name: Adj Close, Length: 2014, dtype: float64"
            ]
          },
          "metadata": {},
          "execution_count": 19
        }
      ]
    },
    {
      "cell_type": "code",
      "metadata": {
        "colab": {
          "base_uri": "https://localhost:8080/"
        },
        "id": "RzPXNJkzzbeZ",
        "outputId": "6868c2f7-6eef-422d-d9fa-9e8a4171aee0"
      },
      "source": [
        "df2"
      ],
      "execution_count": 20,
      "outputs": [
        {
          "output_type": "execute_result",
          "data": {
            "text/plain": [
              "0        17.984343\n",
              "1        17.734802\n",
              "2        17.937792\n",
              "3        17.909925\n",
              "4        17.777233\n",
              "           ...    \n",
              "2009    160.240005\n",
              "2010    165.300003\n",
              "2011    164.770004\n",
              "2012    163.759995\n",
              "2013    161.839996\n",
              "Name: Adj Close, Length: 2014, dtype: float64"
            ]
          },
          "metadata": {},
          "execution_count": 20
        }
      ]
    },
    {
      "cell_type": "markdown",
      "source": [
        "##Scaling using Minmax scaler"
      ],
      "metadata": {
        "id": "O-Ao7ZopTPsZ"
      }
    },
    {
      "cell_type": "code",
      "metadata": {
        "id": "R_9eOGwD-mNd"
      },
      "source": [
        "from sklearn.preprocessing import MinMaxScaler\n",
        "scaler=MinMaxScaler(feature_range=(0,1))\n",
        "df1=scaler.fit_transform(np.array(df1).reshape(-1,1))\n",
        "df2=scaler.fit_transform(np.array(df2).reshape(-1,1))"
      ],
      "execution_count": 21,
      "outputs": []
    },
    {
      "cell_type": "code",
      "metadata": {
        "colab": {
          "base_uri": "https://localhost:8080/"
        },
        "id": "WkEa5WQW-s53",
        "outputId": "aac7a4cd-386b-48b5-c65c-f2377d95e6a6"
      },
      "source": [
        "print(df1)"
      ],
      "execution_count": 22,
      "outputs": [
        {
          "output_type": "stream",
          "name": "stdout",
          "text": [
            "[[0.01285718]\n",
            " [0.01536597]\n",
            " [0.01702182]\n",
            " ...\n",
            " [0.92969585]\n",
            " [0.94501364]\n",
            " [0.93729673]]\n"
          ]
        }
      ]
    },
    {
      "cell_type": "markdown",
      "source": [
        "##Split Dataset"
      ],
      "metadata": {
        "id": "EjDfRDjvTYUM"
      }
    },
    {
      "cell_type": "code",
      "metadata": {
        "id": "3KxrrQ0L-v3K"
      },
      "source": [
        "##splitting dataset into train and test split\n",
        "training_size1=int(len(df1)*0.65)\n",
        "test_size1=len(df1)-training_size1\n",
        "train_data1,test_data1=df1[0:training_size1,:],df1[training_size1:len(df1),:1]"
      ],
      "execution_count": 23,
      "outputs": []
    },
    {
      "cell_type": "code",
      "metadata": {
        "colab": {
          "base_uri": "https://localhost:8080/"
        },
        "id": "JzcITMt9-wzn",
        "outputId": "4b129446-1d4a-4238-a6bd-a7774d95915b"
      },
      "source": [
        "training_size1,test_size1"
      ],
      "execution_count": 24,
      "outputs": [
        {
          "output_type": "execute_result",
          "data": {
            "text/plain": [
              "(1309, 705)"
            ]
          },
          "metadata": {},
          "execution_count": 24
        }
      ]
    },
    {
      "cell_type": "code",
      "metadata": {
        "id": "EVtpQW1jryd2"
      },
      "source": [
        "training_size2=int(len(df2)*0.65)\n",
        "test_size2=len(df2)-training_size2\n",
        "train_data2,test_data2=df2[0:training_size2,:],df2[training_size2:len(df2),:1]"
      ],
      "execution_count": 25,
      "outputs": []
    },
    {
      "cell_type": "code",
      "metadata": {
        "colab": {
          "base_uri": "https://localhost:8080/"
        },
        "id": "yNFbBn9usSEJ",
        "outputId": "81e44319-7747-49ff-cf4c-0055abbece6e"
      },
      "source": [
        "training_size2,test_size2"
      ],
      "execution_count": 26,
      "outputs": [
        {
          "output_type": "execute_result",
          "data": {
            "text/plain": [
              "(1309, 705)"
            ]
          },
          "metadata": {},
          "execution_count": 26
        }
      ]
    },
    {
      "cell_type": "code",
      "metadata": {
        "colab": {
          "base_uri": "https://localhost:8080/"
        },
        "id": "vL76q9Xi-0NE",
        "outputId": "5e937c6d-4b0c-4652-aeb3-3b7479b2beb5"
      },
      "source": [
        "train_data1\n"
      ],
      "execution_count": 27,
      "outputs": [
        {
          "output_type": "execute_result",
          "data": {
            "text/plain": [
              "array([[0.01285718],\n",
              "       [0.01536597],\n",
              "       [0.01702182],\n",
              "       ...,\n",
              "       [0.25288531],\n",
              "       [0.24905689],\n",
              "       [0.25180921]])"
            ]
          },
          "metadata": {},
          "execution_count": 27
        }
      ]
    },
    {
      "cell_type": "code",
      "metadata": {
        "colab": {
          "base_uri": "https://localhost:8080/"
        },
        "id": "1SBoxg_xsZpU",
        "outputId": "24f16ba3-081e-4bb0-dd8b-d3b51e5e2bff"
      },
      "source": [
        "train_data2"
      ],
      "execution_count": 28,
      "outputs": [
        {
          "output_type": "execute_result",
          "data": {
            "text/plain": [
              "array([[0.01443226],\n",
              "       [0.01276278],\n",
              "       [0.01412082],\n",
              "       ...,\n",
              "       [0.1726257 ],\n",
              "       [0.1720061 ],\n",
              "       [0.17283768]])"
            ]
          },
          "metadata": {},
          "execution_count": 28
        }
      ]
    },
    {
      "cell_type": "code",
      "metadata": {
        "id": "0U0yNxuM-5KP"
      },
      "source": [
        "import numpy\n",
        "# convert an array of values into a dataset matrix\n",
        "def create_dataset(dataset, time_step=1):\n",
        "\tdataX, dataY = [], []\n",
        "\tfor i in range(len(dataset)-time_step-1):\n",
        "\t\ta = dataset[i:(i+time_step), 0]   ###i=0, 0,1,2,3-----99   100 \n",
        "\t\tdataX.append(a)\n",
        "\t\tdataY.append(dataset[i + time_step, 0])\n",
        "\treturn numpy.array(dataX), numpy.array(dataY)"
      ],
      "execution_count": 29,
      "outputs": []
    },
    {
      "cell_type": "code",
      "metadata": {
        "id": "xjO6Hedr-8Y9"
      },
      "source": [
        "# reshape into X=t,t+1,t+2,t+3 and Y=t+4\n",
        "time_step = 100\n",
        "X_train1, y_train1 = create_dataset(train_data1, time_step)\n",
        "X_test1, ytest1 = create_dataset(test_data1, time_step)"
      ],
      "execution_count": 30,
      "outputs": []
    },
    {
      "cell_type": "code",
      "metadata": {
        "colab": {
          "base_uri": "https://localhost:8080/"
        },
        "id": "aoNDBFty-9NN",
        "outputId": "80b60bc7-74e8-4588-dff8-d4cdc04709a5"
      },
      "source": [
        "print(X_train1.shape), print(y_train1.shape)"
      ],
      "execution_count": 31,
      "outputs": [
        {
          "output_type": "stream",
          "name": "stdout",
          "text": [
            "(1208, 100)\n",
            "(1208,)\n"
          ]
        },
        {
          "output_type": "execute_result",
          "data": {
            "text/plain": [
              "(None, None)"
            ]
          },
          "metadata": {},
          "execution_count": 31
        }
      ]
    },
    {
      "cell_type": "code",
      "metadata": {
        "colab": {
          "base_uri": "https://localhost:8080/"
        },
        "id": "hmGkGsQj_B6G",
        "outputId": "a3b08179-78d8-4de5-8a92-4e75db60d134"
      },
      "source": [
        "print(X_test1.shape), print(ytest1.shape)"
      ],
      "execution_count": 32,
      "outputs": [
        {
          "output_type": "stream",
          "name": "stdout",
          "text": [
            "(604, 100)\n",
            "(604,)\n"
          ]
        },
        {
          "output_type": "execute_result",
          "data": {
            "text/plain": [
              "(None, None)"
            ]
          },
          "metadata": {},
          "execution_count": 32
        }
      ]
    },
    {
      "cell_type": "code",
      "metadata": {
        "id": "8K6rStZ3_EkC"
      },
      "source": [
        "# reshape input to be [samples, time steps, features] which is required for LSTM\n",
        "X_train1 =X_train1.reshape(X_train1.shape[0],X_train1.shape[1] , 1)\n",
        "X_test1 = X_test1.reshape(X_test1.shape[0],X_test1.shape[1] , 1)"
      ],
      "execution_count": 33,
      "outputs": []
    },
    {
      "cell_type": "code",
      "metadata": {
        "id": "3rIb52Cwz1hN"
      },
      "source": [
        "# reshape into X=t,t+1,t+2,t+3 and Y=t+4 for 2nd dataset\n",
        "#time_step = 100\n",
        "X_train2, y_train2 = create_dataset(train_data2, time_step)\n",
        "X_test2, ytest2 = create_dataset(test_data2, time_step)"
      ],
      "execution_count": 34,
      "outputs": []
    },
    {
      "cell_type": "code",
      "metadata": {
        "colab": {
          "base_uri": "https://localhost:8080/"
        },
        "id": "ucjxK-7u0DkU",
        "outputId": "5bffc42d-faa1-4a74-8b0c-4c54a37d4329"
      },
      "source": [
        "print(X_train2.shape), print(y_train2.shape)\n"
      ],
      "execution_count": 35,
      "outputs": [
        {
          "output_type": "stream",
          "name": "stdout",
          "text": [
            "(1208, 100)\n",
            "(1208,)\n"
          ]
        },
        {
          "output_type": "execute_result",
          "data": {
            "text/plain": [
              "(None, None)"
            ]
          },
          "metadata": {},
          "execution_count": 35
        }
      ]
    },
    {
      "cell_type": "code",
      "metadata": {
        "colab": {
          "base_uri": "https://localhost:8080/"
        },
        "id": "OK57MEl_0HDT",
        "outputId": "95436b85-3739-4562-bb8c-d6ca7365bfcf"
      },
      "source": [
        "print(X_test2.shape), print(ytest2.shape)"
      ],
      "execution_count": 36,
      "outputs": [
        {
          "output_type": "stream",
          "name": "stdout",
          "text": [
            "(604, 100)\n",
            "(604,)\n"
          ]
        },
        {
          "output_type": "execute_result",
          "data": {
            "text/plain": [
              "(None, None)"
            ]
          },
          "metadata": {},
          "execution_count": 36
        }
      ]
    },
    {
      "cell_type": "code",
      "source": [
        "# reshape input to be [samples, time steps, features] which is required for LSTM \n",
        "X_train2 =X_train2.reshape(X_train2.shape[0],X_train2.shape[1] , 1)\n",
        "X_test2 = X_test2.reshape(X_test2.shape[0],X_test2.shape[1] , 1)"
      ],
      "metadata": {
        "id": "FhAHziqSSL7P"
      },
      "execution_count": 37,
      "outputs": []
    },
    {
      "cell_type": "markdown",
      "source": [
        "#creating neural network"
      ],
      "metadata": {
        "id": "_kBEmpV5Tf2M"
      }
    },
    {
      "cell_type": "code",
      "metadata": {
        "id": "GBIFT2EL_Ez_"
      },
      "source": [
        "### Create the Stacked LSTM model\n",
        "import tensorflow as tf\n",
        "from keras.utils.vis_utils import plot_model\n",
        "from tensorflow.keras.models import Sequential\n",
        "from tensorflow.keras.layers import Dense\n",
        "from tensorflow.keras.layers import LSTM\n",
        "from tensorflow.keras.layers import Dropout"
      ],
      "execution_count": 38,
      "outputs": []
    },
    {
      "cell_type": "code",
      "metadata": {
        "id": "ccibOHXn_Jhw"
      },
      "source": [
        "def stock_pred():\n",
        "    model=Sequential()\n",
        "    model.add(LSTM(50,return_sequences=True,input_shape=(100,1)))\n",
        "    model.add(LSTM(50,return_sequences=True))\n",
        "    model.add(Dense(128, activation='tanh'),)\n",
        "    #model.add(Dropout(.8))\n",
        "    model.add(Dense(128, activation='tanh'),)\n",
        "    \n",
        "    model.add(LSTM(50))\n",
        "    model.add(Dense(1,activation='linear'))\n",
        "    \n",
        "\n",
        "    model.compile(loss='mean_squared_error',optimizer='adam')\n",
        "\n",
        "    return model\n"
      ],
      "execution_count": 39,
      "outputs": []
    },
    {
      "cell_type": "code",
      "metadata": {
        "colab": {
          "base_uri": "https://localhost:8080/",
          "height": 53
        },
        "id": "TlpwCYmAO_cx",
        "outputId": "c98a71e6-0d78-447d-dcad-9a0a6f255de2"
      },
      "source": [
        "\"\"\"!pip install ann_visualizer\n",
        "from ann_visualizer.visualize import ann_viz;\n",
        "network= stock_pred();\n",
        "\n",
        "ann_viz(network, title=\"My hybrid neural network\",view=True)\n",
        "print(network.layers[1].get_config());\"\"\""
      ],
      "execution_count": 40,
      "outputs": [
        {
          "output_type": "execute_result",
          "data": {
            "application/vnd.google.colaboratory.intrinsic+json": {
              "type": "string"
            },
            "text/plain": [
              "'!pip install ann_visualizer\\nfrom ann_visualizer.visualize import ann_viz;\\nnetwork= stock_pred();\\n\\nann_viz(network, title=\"My hybrid neural network\",view=True)\\nprint(network.layers[1].get_config());'"
            ]
          },
          "metadata": {},
          "execution_count": 40
        }
      ]
    },
    {
      "cell_type": "code",
      "metadata": {
        "colab": {
          "base_uri": "https://localhost:8080/"
        },
        "id": "ZHKglF7s_Mr_",
        "outputId": "1bf06c1b-f9aa-4552-902c-c5309a924802"
      },
      "source": [
        "stock_pred().summary()"
      ],
      "execution_count": 41,
      "outputs": [
        {
          "output_type": "stream",
          "name": "stdout",
          "text": [
            "Model: \"sequential\"\n",
            "_________________________________________________________________\n",
            " Layer (type)                Output Shape              Param #   \n",
            "=================================================================\n",
            " lstm (LSTM)                 (None, 100, 50)           10400     \n",
            "                                                                 \n",
            " lstm_1 (LSTM)               (None, 100, 50)           20200     \n",
            "                                                                 \n",
            " dense (Dense)               (None, 100, 128)          6528      \n",
            "                                                                 \n",
            " dense_1 (Dense)             (None, 100, 128)          16512     \n",
            "                                                                 \n",
            " lstm_2 (LSTM)               (None, 50)                35800     \n",
            "                                                                 \n",
            " dense_2 (Dense)             (None, 1)                 51        \n",
            "                                                                 \n",
            "=================================================================\n",
            "Total params: 89,491\n",
            "Trainable params: 89,491\n",
            "Non-trainable params: 0\n",
            "_________________________________________________________________\n"
          ]
        }
      ]
    },
    {
      "cell_type": "code",
      "metadata": {
        "colab": {
          "base_uri": "https://localhost:8080/",
          "height": 754
        },
        "id": "Oo3Q-CJ__ZX5",
        "outputId": "20815262-39c2-4a3e-902b-244cc0a07269"
      },
      "source": [
        "plot_model(stock_pred(), to_file='model_plot.png', show_shapes=True, show_layer_names=True)"
      ],
      "execution_count": 42,
      "outputs": [
        {
          "output_type": "execute_result",
          "data": {
            "image/png": "[encoded data removed]",
            "text/plain": [
              "<IPython.core.display.Image object>"
            ]
          },
          "metadata": {},
          "execution_count": 42
        }
      ]
    },
    {
      "cell_type": "markdown",
      "source": [
        "##Training"
      ],
      "metadata": {
        "id": "4nKRahi1TnWa"
      }
    },
    {
      "cell_type": "code",
      "metadata": {
        "colab": {
          "base_uri": "https://localhost:8080/"
        },
        "id": "EBchFKtG_PyW",
        "outputId": "a5c9b3bf-5356-4735-e690-4831c1bc4690"
      },
      "source": [
        "g=stock_pred()\n",
        "g.fit(X_train1,y_train1,validation_data=(X_test1,ytest1),epochs=100,batch_size=101,verbose=1)"
      ],
      "execution_count": 43,
      "outputs": [
        {
          "output_type": "stream",
          "name": "stdout",
          "text": [
            "Epoch 1/100\n",
            "12/12 [==============================] - 12s 218ms/step - loss: 0.0054 - val_loss: 0.0024\n",
            "Epoch 2/100\n",
            "12/12 [==============================] - 1s 89ms/step - loss: 6.4116e-04 - val_loss: 0.0154\n",
            "Epoch 3/100\n",
            "12/12 [==============================] - 1s 90ms/step - loss: 3.0555e-04 - val_loss: 0.0062\n",
            "Epoch 4/100\n",
            "12/12 [==============================] - 1s 91ms/step - loss: 1.8263e-04 - val_loss: 0.0071\n",
            "Epoch 5/100\n",
            "12/12 [==============================] - 1s 89ms/step - loss: 1.7152e-04 - val_loss: 0.0056\n",
            "Epoch 6/100\n",
            "12/12 [==============================] - 1s 90ms/step - loss: 1.5220e-04 - val_loss: 0.0071\n",
            "Epoch 7/100\n",
            "12/12 [==============================] - 1s 90ms/step - loss: 1.4829e-04 - val_loss: 0.0060\n",
            "Epoch 8/100\n",
            "12/12 [==============================] - 1s 89ms/step - loss: 1.5638e-04 - val_loss: 0.0078\n",
            "Epoch 9/100\n",
            "12/12 [==============================] - 1s 92ms/step - loss: 1.5454e-04 - val_loss: 0.0054\n",
            "Epoch 10/100\n",
            "12/12 [==============================] - 1s 89ms/step - loss: 1.5743e-04 - val_loss: 0.0088\n",
            "Epoch 11/100\n",
            "12/12 [==============================] - 1s 89ms/step - loss: 1.6500e-04 - val_loss: 0.0074\n",
            "Epoch 12/100\n",
            "12/12 [==============================] - 1s 88ms/step - loss: 1.4984e-04 - val_loss: 0.0054\n",
            "Epoch 13/100\n",
            "12/12 [==============================] - 1s 88ms/step - loss: 1.4935e-04 - val_loss: 0.0055\n",
            "Epoch 14/100\n",
            "12/12 [==============================] - 1s 90ms/step - loss: 1.4429e-04 - val_loss: 0.0082\n",
            "Epoch 15/100\n",
            "12/12 [==============================] - 1s 88ms/step - loss: 1.4298e-04 - val_loss: 0.0067\n",
            "Epoch 16/100\n",
            "12/12 [==============================] - 1s 89ms/step - loss: 1.4063e-04 - val_loss: 0.0055\n",
            "Epoch 17/100\n",
            "12/12 [==============================] - 1s 89ms/step - loss: 1.3286e-04 - val_loss: 0.0070\n",
            "Epoch 18/100\n",
            "12/12 [==============================] - 1s 88ms/step - loss: 1.3401e-04 - val_loss: 0.0062\n",
            "Epoch 19/100\n",
            "12/12 [==============================] - 1s 90ms/step - loss: 1.3189e-04 - val_loss: 0.0056\n",
            "Epoch 20/100\n",
            "12/12 [==============================] - 1s 88ms/step - loss: 1.2631e-04 - val_loss: 0.0063\n",
            "Epoch 21/100\n",
            "12/12 [==============================] - 1s 88ms/step - loss: 1.4248e-04 - val_loss: 0.0045\n",
            "Epoch 22/100\n",
            "12/12 [==============================] - 1s 90ms/step - loss: 1.3864e-04 - val_loss: 0.0051\n",
            "Epoch 23/100\n",
            "12/12 [==============================] - 1s 88ms/step - loss: 1.2568e-04 - val_loss: 0.0051\n",
            "Epoch 24/100\n",
            "12/12 [==============================] - 1s 89ms/step - loss: 1.2967e-04 - val_loss: 0.0049\n",
            "Epoch 25/100\n",
            "12/12 [==============================] - 1s 90ms/step - loss: 1.4737e-04 - val_loss: 0.0024\n",
            "Epoch 26/100\n",
            "12/12 [==============================] - 1s 89ms/step - loss: 1.4206e-04 - val_loss: 0.0034\n",
            "Epoch 27/100\n",
            "12/12 [==============================] - 1s 90ms/step - loss: 1.3297e-04 - val_loss: 0.0038\n",
            "Epoch 28/100\n",
            "12/12 [==============================] - 1s 89ms/step - loss: 1.1580e-04 - val_loss: 0.0051\n",
            "Epoch 29/100\n",
            "12/12 [==============================] - 1s 90ms/step - loss: 1.1969e-04 - val_loss: 0.0050\n",
            "Epoch 30/100\n",
            "12/12 [==============================] - 1s 91ms/step - loss: 1.1901e-04 - val_loss: 0.0048\n",
            "Epoch 31/100\n",
            "12/12 [==============================] - 1s 89ms/step - loss: 1.1347e-04 - val_loss: 0.0042\n",
            "Epoch 32/100\n",
            "12/12 [==============================] - 1s 89ms/step - loss: 1.1111e-04 - val_loss: 0.0042\n",
            "Epoch 33/100\n",
            "12/12 [==============================] - 1s 88ms/step - loss: 1.1494e-04 - val_loss: 0.0033\n",
            "Epoch 34/100\n",
            "12/12 [==============================] - 1s 89ms/step - loss: 1.1739e-04 - val_loss: 0.0041\n",
            "Epoch 35/100\n",
            "12/12 [==============================] - 1s 89ms/step - loss: 1.1391e-04 - val_loss: 0.0025\n",
            "Epoch 36/100\n",
            "12/12 [==============================] - 1s 90ms/step - loss: 1.2172e-04 - val_loss: 0.0044\n",
            "Epoch 37/100\n",
            "12/12 [==============================] - 1s 89ms/step - loss: 1.1137e-04 - val_loss: 0.0055\n",
            "Epoch 38/100\n",
            "12/12 [==============================] - 1s 89ms/step - loss: 1.0613e-04 - val_loss: 0.0044\n",
            "Epoch 39/100\n",
            "12/12 [==============================] - 1s 89ms/step - loss: 1.0653e-04 - val_loss: 0.0042\n",
            "Epoch 40/100\n",
            "12/12 [==============================] - 1s 90ms/step - loss: 1.1783e-04 - val_loss: 0.0027\n",
            "Epoch 41/100\n",
            "12/12 [==============================] - 1s 90ms/step - loss: 1.1617e-04 - val_loss: 0.0024\n",
            "Epoch 42/100\n",
            "12/12 [==============================] - 1s 90ms/step - loss: 1.2187e-04 - val_loss: 0.0051\n",
            "Epoch 43/100\n",
            "12/12 [==============================] - 1s 89ms/step - loss: 1.0583e-04 - val_loss: 0.0037\n",
            "Epoch 44/100\n",
            "12/12 [==============================] - 1s 107ms/step - loss: 1.0863e-04 - val_loss: 0.0037\n",
            "Epoch 45/100\n",
            "12/12 [==============================] - 1s 89ms/step - loss: 1.0265e-04 - val_loss: 0.0039\n",
            "Epoch 46/100\n",
            "12/12 [==============================] - 1s 91ms/step - loss: 1.0617e-04 - val_loss: 0.0028\n",
            "Epoch 47/100\n",
            "12/12 [==============================] - 1s 90ms/step - loss: 1.0336e-04 - val_loss: 0.0035\n",
            "Epoch 48/100\n",
            "12/12 [==============================] - 1s 90ms/step - loss: 1.0064e-04 - val_loss: 0.0043\n",
            "Epoch 49/100\n",
            "12/12 [==============================] - 1s 92ms/step - loss: 9.6824e-05 - val_loss: 0.0029\n",
            "Epoch 50/100\n",
            "12/12 [==============================] - 1s 93ms/step - loss: 9.6854e-05 - val_loss: 0.0024\n",
            "Epoch 51/100\n",
            "12/12 [==============================] - 1s 90ms/step - loss: 1.0884e-04 - val_loss: 0.0032\n",
            "Epoch 52/100\n",
            "12/12 [==============================] - 1s 90ms/step - loss: 9.9038e-05 - val_loss: 0.0048\n",
            "Epoch 53/100\n",
            "12/12 [==============================] - 1s 88ms/step - loss: 9.9362e-05 - val_loss: 0.0054\n",
            "Epoch 54/100\n",
            "12/12 [==============================] - 1s 88ms/step - loss: 1.0895e-04 - val_loss: 0.0026\n",
            "Epoch 55/100\n",
            "12/12 [==============================] - 1s 91ms/step - loss: 1.0933e-04 - val_loss: 0.0027\n",
            "Epoch 56/100\n",
            "12/12 [==============================] - 1s 90ms/step - loss: 1.0621e-04 - val_loss: 0.0029\n",
            "Epoch 57/100\n",
            "12/12 [==============================] - 1s 90ms/step - loss: 1.1315e-04 - val_loss: 0.0021\n",
            "Epoch 58/100\n",
            "12/12 [==============================] - 1s 89ms/step - loss: 9.8489e-05 - val_loss: 0.0029\n",
            "Epoch 59/100\n",
            "12/12 [==============================] - 1s 89ms/step - loss: 8.7733e-05 - val_loss: 0.0038\n",
            "Epoch 60/100\n",
            "12/12 [==============================] - 1s 89ms/step - loss: 9.0532e-05 - val_loss: 0.0030\n",
            "Epoch 61/100\n",
            "12/12 [==============================] - 1s 90ms/step - loss: 8.9111e-05 - val_loss: 0.0024\n",
            "Epoch 62/100\n",
            "12/12 [==============================] - 1s 90ms/step - loss: 8.8731e-05 - val_loss: 0.0038\n",
            "Epoch 63/100\n",
            "12/12 [==============================] - 1s 89ms/step - loss: 8.7814e-05 - val_loss: 0.0029\n",
            "Epoch 64/100\n",
            "12/12 [==============================] - 1s 90ms/step - loss: 8.9407e-05 - val_loss: 0.0028\n",
            "Epoch 65/100\n",
            "12/12 [==============================] - 1s 89ms/step - loss: 8.3841e-05 - val_loss: 0.0032\n",
            "Epoch 66/100\n",
            "12/12 [==============================] - 1s 90ms/step - loss: 9.2081e-05 - val_loss: 0.0031\n",
            "Epoch 67/100\n",
            "12/12 [==============================] - 1s 88ms/step - loss: 8.8555e-05 - val_loss: 0.0035\n",
            "Epoch 68/100\n",
            "12/12 [==============================] - 1s 90ms/step - loss: 9.1869e-05 - val_loss: 0.0019\n",
            "Epoch 69/100\n",
            "12/12 [==============================] - 1s 89ms/step - loss: 8.1432e-05 - val_loss: 0.0022\n",
            "Epoch 70/100\n",
            "12/12 [==============================] - 1s 90ms/step - loss: 8.8172e-05 - val_loss: 0.0042\n",
            "Epoch 71/100\n",
            "12/12 [==============================] - 1s 90ms/step - loss: 8.2056e-05 - val_loss: 0.0026\n",
            "Epoch 72/100\n",
            "12/12 [==============================] - 1s 90ms/step - loss: 7.9969e-05 - val_loss: 0.0039\n",
            "Epoch 73/100\n",
            "12/12 [==============================] - 1s 88ms/step - loss: 9.4005e-05 - val_loss: 0.0023\n",
            "Epoch 74/100\n",
            "12/12 [==============================] - 1s 91ms/step - loss: 9.3564e-05 - val_loss: 0.0013\n",
            "Epoch 75/100\n",
            "12/12 [==============================] - 1s 90ms/step - loss: 8.1720e-05 - val_loss: 0.0021\n",
            "Epoch 76/100\n",
            "12/12 [==============================] - 1s 90ms/step - loss: 8.5688e-05 - val_loss: 0.0038\n",
            "Epoch 77/100\n",
            "12/12 [==============================] - 1s 90ms/step - loss: 7.8302e-05 - val_loss: 0.0027\n",
            "Epoch 78/100\n",
            "12/12 [==============================] - 1s 89ms/step - loss: 7.5794e-05 - val_loss: 0.0036\n",
            "Epoch 79/100\n",
            "12/12 [==============================] - 1s 89ms/step - loss: 7.6657e-05 - val_loss: 0.0024\n",
            "Epoch 80/100\n",
            "12/12 [==============================] - 1s 90ms/step - loss: 7.9872e-05 - val_loss: 0.0013\n",
            "Epoch 81/100\n",
            "12/12 [==============================] - 1s 91ms/step - loss: 7.9493e-05 - val_loss: 0.0020\n",
            "Epoch 82/100\n",
            "12/12 [==============================] - 1s 90ms/step - loss: 7.3474e-05 - val_loss: 0.0021\n",
            "Epoch 83/100\n",
            "12/12 [==============================] - 1s 90ms/step - loss: 7.0281e-05 - val_loss: 0.0037\n",
            "Epoch 84/100\n",
            "12/12 [==============================] - 1s 90ms/step - loss: 7.2341e-05 - val_loss: 0.0019\n",
            "Epoch 85/100\n",
            "12/12 [==============================] - 1s 90ms/step - loss: 7.1697e-05 - val_loss: 0.0034\n",
            "Epoch 86/100\n",
            "12/12 [==============================] - 1s 91ms/step - loss: 7.8207e-05 - val_loss: 0.0014\n",
            "Epoch 87/100\n",
            "12/12 [==============================] - 1s 91ms/step - loss: 8.6285e-05 - val_loss: 0.0032\n",
            "Epoch 88/100\n",
            "12/12 [==============================] - 1s 92ms/step - loss: 6.5918e-05 - val_loss: 0.0019\n",
            "Epoch 89/100\n",
            "12/12 [==============================] - 1s 90ms/step - loss: 7.3710e-05 - val_loss: 0.0029\n",
            "Epoch 90/100\n",
            "12/12 [==============================] - 1s 90ms/step - loss: 7.2457e-05 - val_loss: 0.0022\n",
            "Epoch 91/100\n",
            "12/12 [==============================] - 1s 89ms/step - loss: 6.8184e-05 - val_loss: 0.0022\n",
            "Epoch 92/100\n",
            "12/12 [==============================] - 1s 91ms/step - loss: 6.6797e-05 - val_loss: 0.0022\n",
            "Epoch 93/100\n",
            "12/12 [==============================] - 1s 92ms/step - loss: 7.3681e-05 - val_loss: 0.0017\n",
            "Epoch 94/100\n",
            "12/12 [==============================] - 1s 91ms/step - loss: 6.5849e-05 - val_loss: 0.0028\n",
            "Epoch 95/100\n",
            "12/12 [==============================] - 1s 91ms/step - loss: 7.9625e-05 - val_loss: 0.0013\n",
            "Epoch 96/100\n",
            "12/12 [==============================] - 1s 90ms/step - loss: 8.8598e-05 - val_loss: 0.0024\n",
            "Epoch 97/100\n",
            "12/12 [==============================] - 1s 91ms/step - loss: 6.3006e-05 - val_loss: 0.0019\n",
            "Epoch 98/100\n",
            "12/12 [==============================] - 1s 90ms/step - loss: 5.9568e-05 - val_loss: 0.0018\n",
            "Epoch 99/100\n",
            "12/12 [==============================] - 1s 89ms/step - loss: 6.1416e-05 - val_loss: 0.0014\n",
            "Epoch 100/100\n",
            "12/12 [==============================] - 1s 89ms/step - loss: 5.7802e-05 - val_loss: 9.5569e-04\n"
          ]
        },
        {
          "output_type": "execute_result",
          "data": {
            "text/plain": [
              "<keras.callbacks.History at 0x7f7b702ac310>"
            ]
          },
          "metadata": {},
          "execution_count": 43
        }
      ]
    },
    {
      "cell_type": "code",
      "metadata": {
        "id": "oaIt_z0UMpVf"
      },
      "source": [
        "#plt.plot(gs.history['val_loss'])"
      ],
      "execution_count": 44,
      "outputs": []
    },
    {
      "cell_type": "code",
      "metadata": {
        "colab": {
          "base_uri": "https://localhost:8080/",
          "height": 53
        },
        "id": "U9tbqjLr_cIO",
        "outputId": "98f6147a-4653-493a-a5bc-2cb5ef458d98"
      },
      "source": [
        "\"\"\"plt.plot(gs.history['accuracy'])\n",
        "plt.plot(gs.history['val_accuracy'])\n",
        "plt.title('Model accuracy')\n",
        "plt.ylabel('Accuary')\n",
        "plt.xlabel('Training Step')\n",
        "plt.legend(['Train','Val'],loc='upper left')\n",
        "plt.show()\"\"\""
      ],
      "execution_count": 45,
      "outputs": [
        {
          "output_type": "execute_result",
          "data": {
            "application/vnd.google.colaboratory.intrinsic+json": {
              "type": "string"
            },
            "text/plain": [
              "\"plt.plot(gs.history['accuracy'])\\nplt.plot(gs.history['val_accuracy'])\\nplt.title('Model accuracy')\\nplt.ylabel('Accuary')\\nplt.xlabel('Training Step')\\nplt.legend(['Train','Val'],loc='upper left')\\nplt.show()\""
            ]
          },
          "metadata": {},
          "execution_count": 45
        }
      ]
    },
    {
      "cell_type": "code",
      "metadata": {
        "id": "CJ92VlTr_c6u"
      },
      "source": [
        "### Lets Do the prediction and check performance metrics\n",
        "train_predict1=g.predict(X_train1)\n",
        "test_predict1=g.predict(X_test1)"
      ],
      "execution_count": 46,
      "outputs": []
    },
    {
      "cell_type": "code",
      "metadata": {
        "id": "GVhNldIl_hFu"
      },
      "source": [
        "##Transformback to original form\n",
        "train_predict1=scaler.inverse_transform(train_predict1)\n",
        "test_predict1=scaler.inverse_transform(test_predict1)"
      ],
      "execution_count": 47,
      "outputs": []
    },
    {
      "cell_type": "code",
      "metadata": {
        "colab": {
          "base_uri": "https://localhost:8080/"
        },
        "id": "mauDZxdF_h_n",
        "outputId": "85a37b82-da4d-4754-a334-7bffcc1b9106"
      },
      "source": [
        "### Calculate RMSE performance metrics\n",
        "import math\n",
        "from sklearn.metrics import mean_squared_error\n",
        "math.sqrt(mean_squared_error(y_train1,train_predict1))"
      ],
      "execution_count": 48,
      "outputs": [
        {
          "output_type": "execute_result",
          "data": {
            "text/plain": [
              "38.204860121740275"
            ]
          },
          "metadata": {},
          "execution_count": 48
        }
      ]
    },
    {
      "cell_type": "code",
      "metadata": {
        "colab": {
          "base_uri": "https://localhost:8080/"
        },
        "id": "kR8p8se0_kDe",
        "outputId": "4ca7dc44-5ae6-4e1f-d7ba-1703f93acd3f"
      },
      "source": [
        "### Test Data RMSE\n",
        "math.sqrt(mean_squared_error(ytest1,test_predict1))"
      ],
      "execution_count": 49,
      "outputs": [
        {
          "output_type": "execute_result",
          "data": {
            "text/plain": [
              "96.36759275205526"
            ]
          },
          "metadata": {},
          "execution_count": 49
        }
      ]
    },
    {
      "cell_type": "code",
      "metadata": {
        "colab": {
          "base_uri": "https://localhost:8080/",
          "height": 308
        },
        "id": "fH5Tsvx3_mOx",
        "outputId": "33eb35c1-ef40-4e43-bacb-887b751c388e"
      },
      "source": [
        "### Plotting \n",
        "# shift train predictions for plotting\n",
        "look_back=100\n",
        "trainPredictPlot1 = numpy.empty_like(df1)\n",
        "trainPredictPlot1[:, :] = np.nan\n",
        "trainPredictPlot1[look_back:len(train_predict1)+look_back, :] = train_predict1\n",
        "# shift test predictions for plotting\n",
        "testPredictPlot1 = numpy.empty_like(df1)\n",
        "testPredictPlot1[:, :] = numpy.nan\n",
        "testPredictPlot1[len(train_predict1)+(look_back*2)+1:len(df1)-1, :] = test_predict1\n",
        "# plot baseline and predictions\n",
        "plt.plot(scaler.inverse_transform(df1))\n",
        "plt.plot(trainPredictPlot1)\n",
        "plt.plot(testPredictPlot1)\n",
        "plt.ylabel('price')\n",
        "plt.xlabel('Days')\n",
        "plt.suptitle('Google')\n",
        "plt.show()"
      ],
      "execution_count": 50,
      "outputs": [
        {
          "output_type": "display_data",
          "data": {
            "image/png": "[encoded data removed]",
            "text/plain": [
              "<Figure size 432x288 with 1 Axes>"
            ]
          },
          "metadata": {
            "needs_background": "light"
          }
        }
      ]
    },
    {
      "cell_type": "code",
      "metadata": {
        "colab": {
          "base_uri": "https://localhost:8080/"
        },
        "id": "3rLQNysK_p2i",
        "outputId": "31e678e3-44d1-43de-98fc-88f423584121"
      },
      "source": [
        "len(test_data1)"
      ],
      "execution_count": 51,
      "outputs": [
        {
          "output_type": "execute_result",
          "data": {
            "text/plain": [
              "705"
            ]
          },
          "metadata": {},
          "execution_count": 51
        }
      ]
    },
    {
      "cell_type": "code",
      "metadata": {
        "colab": {
          "base_uri": "https://localhost:8080/"
        },
        "id": "D2Q3qNS4_tig",
        "outputId": "46440f43-2b31-4d2e-b979-990988c4d29d"
      },
      "source": [
        "x_input1=test_data1[605:].reshape(1,-1)    #test size - last 100 day (test data lenght - 100)\n",
        "x_input1.shape"
      ],
      "execution_count": 52,
      "outputs": [
        {
          "output_type": "execute_result",
          "data": {
            "text/plain": [
              "(1, 100)"
            ]
          },
          "metadata": {},
          "execution_count": 52
        }
      ]
    },
    {
      "cell_type": "code",
      "metadata": {
        "id": "Ps8NBNvM_t0W"
      },
      "source": [
        "temp_input1=list(x_input1)\n",
        "temp_input1=temp_input1[0].tolist()"
      ],
      "execution_count": 53,
      "outputs": []
    },
    {
      "cell_type": "code",
      "metadata": {
        "id": "8lUm0DY9_2qK"
      },
      "source": [
        "#temp_input1"
      ],
      "execution_count": 54,
      "outputs": []
    },
    {
      "cell_type": "code",
      "metadata": {
        "colab": {
          "base_uri": "https://localhost:8080/"
        },
        "id": "anq4u_wYY3hd",
        "outputId": "99ef56bf-a0cd-4018-8583-dbd069ca8199"
      },
      "source": [
        "len(temp_input1)"
      ],
      "execution_count": 55,
      "outputs": [
        {
          "output_type": "execute_result",
          "data": {
            "text/plain": [
              "100"
            ]
          },
          "metadata": {},
          "execution_count": 55
        }
      ]
    },
    {
      "cell_type": "code",
      "metadata": {
        "colab": {
          "base_uri": "https://localhost:8080/"
        },
        "id": "iVkDKVSy_5EF",
        "outputId": "b210976b-a04f-4adb-a0c7-e442836d3d6d"
      },
      "source": [
        "# demonstrate prediction for next 30 days\n",
        "from numpy import array\n",
        "\n",
        "lst_output=[]\n",
        "n_steps=100\n",
        "i=0\n",
        "while(i<30):         \n",
        "    \n",
        "    if(len(temp_input1)>100):\n",
        "        #print(temp_input)\n",
        "        x_input1=np.array(temp_input1[1:])\n",
        "        #print(\"{} day input {}\".format(i,x_input1))\n",
        "        x_input1=x_input1.reshape(1,-1)\n",
        "        x_input1 = x_input1.reshape((1, n_steps, 1))\n",
        "        #print(x_input)\n",
        "        yhat = g.predict(x_input1, verbose=0)\n",
        "        print(\"{} day output {}\".format(i,yhat))\n",
        "        temp_input1.extend(yhat[0].tolist())\n",
        "        temp_input1=temp_input1[1:]\n",
        "        #print(temp_input)\n",
        "        lst_output.extend(yhat.tolist())\n",
        "        i=i+1\n",
        "    else:\n",
        "        x_input1 = x_input1.reshape((1, n_steps,1))\n",
        "        yhat = g.predict(x_input1, verbose=0)\n",
        "        print(yhat[0])\n",
        "        temp_input1.extend(yhat[0].tolist())\n",
        "        print(len(temp_input1))\n",
        "        lst_output.extend(yhat.tolist())\n",
        "        i=i+1\n",
        "    \n",
        "\n",
        "print(lst_output)"
      ],
      "execution_count": 56,
      "outputs": [
        {
          "output_type": "stream",
          "name": "stdout",
          "text": [
            "[0.8807364]\n",
            "101\n",
            "1 day output [[0.86690885]]\n",
            "2 day output [[0.8471965]]\n",
            "3 day output [[0.8259828]]\n",
            "4 day output [[0.80526626]]\n",
            "5 day output [[0.7859125]]\n",
            "6 day output [[0.76831853]]\n",
            "7 day output [[0.7526656]]\n",
            "8 day output [[0.7389993]]\n",
            "9 day output [[0.7272569]]\n",
            "10 day output [[0.71728593]]\n",
            "11 day output [[0.7088663]]\n",
            "12 day output [[0.70173466]]\n",
            "13 day output [[0.6956074]]\n",
            "14 day output [[0.690204]]\n",
            "15 day output [[0.68526316]]\n",
            "16 day output [[0.6805579]]\n",
            "17 day output [[0.67590344]]\n",
            "18 day output [[0.6711622]]\n",
            "19 day output [[0.6662438]]\n",
            "20 day output [[0.6611022]]\n",
            "21 day output [[0.6557306]]\n",
            "22 day output [[0.6501544]]\n",
            "23 day output [[0.64442295]]\n",
            "24 day output [[0.638602]]\n",
            "25 day output [[0.63276523]]\n",
            "26 day output [[0.62698805]]\n",
            "27 day output [[0.62134093]]\n",
            "28 day output [[0.6158853]]\n",
            "29 day output [[0.61067027]]\n",
            "[[0.8807364106178284], [0.866908848285675], [0.8471965193748474], [0.8259828090667725], [0.805266261100769], [0.7859125137329102], [0.7683185338973999], [0.7526655793190002], [0.7389993071556091], [0.7272568941116333], [0.7172859311103821], [0.7088662981987], [0.7017346620559692], [0.6956074237823486], [0.6902040243148804], [0.6852631568908691], [0.680557906627655], [0.6759034395217896], [0.6711621880531311], [0.6662437915802002], [0.6611021757125854], [0.6557306051254272], [0.6501544117927551], [0.6444229483604431], [0.6386020183563232], [0.6327652335166931], [0.6269880533218384], [0.6213409304618835], [0.615885317325592], [0.610670268535614]]\n"
          ]
        }
      ]
    },
    {
      "cell_type": "code",
      "metadata": {
        "id": "mgkkwukm_8vd"
      },
      "source": [
        "day_new=np.arange(1,101)    #previous 100 data\n",
        "day_pred=np.arange(101,131)  # prediction for next 30 days after first 100 days"
      ],
      "execution_count": 57,
      "outputs": []
    },
    {
      "cell_type": "code",
      "metadata": {
        "id": "otEM2_oQAA6p"
      },
      "source": [
        "import matplotlib.pyplot as plt"
      ],
      "execution_count": 58,
      "outputs": []
    },
    {
      "cell_type": "code",
      "metadata": {
        "colab": {
          "base_uri": "https://localhost:8080/"
        },
        "id": "7UDVXoSrAFT2",
        "outputId": "d642b0d5-5a2d-4d96-edf2-cd4e776020ea"
      },
      "source": [
        "len(df1)"
      ],
      "execution_count": 59,
      "outputs": [
        {
          "output_type": "execute_result",
          "data": {
            "text/plain": [
              "2014"
            ]
          },
          "metadata": {},
          "execution_count": 59
        }
      ]
    },
    {
      "cell_type": "code",
      "metadata": {
        "colab": {
          "base_uri": "https://localhost:8080/",
          "height": 283
        },
        "id": "vQwO2sOvAF-W",
        "outputId": "2974d8fb-09c8-48f0-97d0-9bc3baa265e4"
      },
      "source": [
        "plt.plot(day_new,scaler.inverse_transform(df1[1914:]))   # input number to see from  last 100 days graph\n",
        "plt.plot(day_pred,scaler.inverse_transform(lst_output))"
      ],
      "execution_count": 60,
      "outputs": [
        {
          "output_type": "execute_result",
          "data": {
            "text/plain": [
              "[<matplotlib.lines.Line2D at 0x7f7b01f73510>]"
            ]
          },
          "metadata": {},
          "execution_count": 60
        },
        {
          "output_type": "display_data",
          "data": {
            "image/png": "[encoded data removed]",
            "text/plain": [
              "<Figure size 432x288 with 1 Axes>"
            ]
          },
          "metadata": {
            "needs_background": "light"
          }
        }
      ]
    },
    {
      "cell_type": "markdown",
      "metadata": {
        "id": "bYxCTeVWbwdv"
      },
      "source": [
        "To see complete output combine df1 and list output in df3"
      ]
    },
    {
      "cell_type": "code",
      "metadata": {
        "colab": {
          "base_uri": "https://localhost:8080/",
          "height": 283
        },
        "id": "-Rwqv2LrAI5I",
        "outputId": "4abab494-151b-485c-e0a1-76bcb5319cb6"
      },
      "source": [
        "df3=df1.tolist()\n",
        "df3.extend(lst_output)\n",
        "plt.plot(df3[1210:])   # input number to see from where want to see graph"
      ],
      "execution_count": 61,
      "outputs": [
        {
          "output_type": "execute_result",
          "data": {
            "text/plain": [
              "[<matplotlib.lines.Line2D at 0x7f7b027b5b10>]"
            ]
          },
          "metadata": {},
          "execution_count": 61
        },
        {
          "output_type": "display_data",
          "data": {
            "image/png": "[encoded data removed]",
            "text/plain": [
              "<Figure size 432x288 with 1 Axes>"
            ]
          },
          "metadata": {
            "needs_background": "light"
          }
        }
      ]
    },
    {
      "cell_type": "code",
      "metadata": {
        "id": "NbhKcp7HAPPN"
      },
      "source": [
        "df3=scaler.inverse_transform(df3).tolist()"
      ],
      "execution_count": 62,
      "outputs": []
    },
    {
      "cell_type": "code",
      "metadata": {
        "colab": {
          "base_uri": "https://localhost:8080/",
          "height": 325
        },
        "id": "Ts20Rg3ZAQAw",
        "outputId": "976af6f0-c711-4ff9-9ab4-82ab914c1960"
      },
      "source": [
        "plt.ylabel('price')\n",
        "plt.xlabel('Days')\n",
        "plt.suptitle('Google')\n",
        "plt.plot(df3)  # combined graph"
      ],
      "execution_count": 110,
      "outputs": [
        {
          "output_type": "execute_result",
          "data": {
            "text/plain": [
              "[<matplotlib.lines.Line2D at 0x7f7ad1424510>]"
            ]
          },
          "metadata": {},
          "execution_count": 110
        },
        {
          "output_type": "display_data",
          "data": {
            "image/png": "[encoded data removed]",
            "text/plain": [
              "<Figure size 432x288 with 1 Axes>"
            ]
          },
          "metadata": {
            "needs_background": "light"
          }
        }
      ]
    },
    {
      "cell_type": "markdown",
      "metadata": {
        "id": "ACK2DyCHbPCD"
      },
      "source": [
        "#Apple Stock rate trainning and prediction "
      ]
    },
    {
      "cell_type": "code",
      "metadata": {
        "colab": {
          "base_uri": "https://localhost:8080/"
        },
        "id": "Vk-vewpHZolv",
        "outputId": "49455e63-2807-441d-d051-f2782d3994f5"
      },
      "source": [
        "a=stock_pred()\n",
        "a.fit(X_train2,y_train2,validation_data=(X_test2,ytest2),epochs=100,batch_size=101,verbose=1)"
      ],
      "execution_count": 64,
      "outputs": [
        {
          "output_type": "stream",
          "name": "stdout",
          "text": [
            "Epoch 1/100\n",
            "12/12 [==============================] - 8s 238ms/step - loss: 0.0033 - val_loss: 0.0234\n",
            "Epoch 2/100\n",
            "12/12 [==============================] - 1s 88ms/step - loss: 5.4366e-04 - val_loss: 0.0016\n",
            "Epoch 3/100\n",
            "12/12 [==============================] - 1s 90ms/step - loss: 1.7363e-04 - val_loss: 0.0161\n",
            "Epoch 4/100\n",
            "12/12 [==============================] - 1s 91ms/step - loss: 1.1640e-04 - val_loss: 0.0056\n",
            "Epoch 5/100\n",
            "12/12 [==============================] - 1s 90ms/step - loss: 9.6039e-05 - val_loss: 0.0083\n",
            "Epoch 6/100\n",
            "12/12 [==============================] - 1s 90ms/step - loss: 9.0608e-05 - val_loss: 0.0048\n",
            "Epoch 7/100\n",
            "12/12 [==============================] - 1s 89ms/step - loss: 8.8732e-05 - val_loss: 0.0063\n",
            "Epoch 8/100\n",
            "12/12 [==============================] - 1s 90ms/step - loss: 8.7088e-05 - val_loss: 0.0062\n",
            "Epoch 9/100\n",
            "12/12 [==============================] - 1s 90ms/step - loss: 8.5763e-05 - val_loss: 0.0044\n",
            "Epoch 10/100\n",
            "12/12 [==============================] - 1s 90ms/step - loss: 8.2236e-05 - val_loss: 0.0055\n",
            "Epoch 11/100\n",
            "12/12 [==============================] - 1s 90ms/step - loss: 8.4218e-05 - val_loss: 0.0036\n",
            "Epoch 12/100\n",
            "12/12 [==============================] - 1s 89ms/step - loss: 8.5120e-05 - val_loss: 0.0050\n",
            "Epoch 13/100\n",
            "12/12 [==============================] - 1s 89ms/step - loss: 9.0187e-05 - val_loss: 0.0035\n",
            "Epoch 14/100\n",
            "12/12 [==============================] - 1s 89ms/step - loss: 7.4119e-05 - val_loss: 0.0037\n",
            "Epoch 15/100\n",
            "12/12 [==============================] - 1s 92ms/step - loss: 7.0936e-05 - val_loss: 0.0054\n",
            "Epoch 16/100\n",
            "12/12 [==============================] - 1s 89ms/step - loss: 7.0470e-05 - val_loss: 0.0065\n",
            "Epoch 17/100\n",
            "12/12 [==============================] - 1s 90ms/step - loss: 7.2258e-05 - val_loss: 0.0059\n",
            "Epoch 18/100\n",
            "12/12 [==============================] - 1s 89ms/step - loss: 6.5433e-05 - val_loss: 0.0036\n",
            "Epoch 19/100\n",
            "12/12 [==============================] - 1s 89ms/step - loss: 6.1794e-05 - val_loss: 0.0035\n",
            "Epoch 20/100\n",
            "12/12 [==============================] - 1s 88ms/step - loss: 6.3124e-05 - val_loss: 0.0019\n",
            "Epoch 21/100\n",
            "12/12 [==============================] - 1s 88ms/step - loss: 6.3360e-05 - val_loss: 0.0040\n",
            "Epoch 22/100\n",
            "12/12 [==============================] - 1s 89ms/step - loss: 6.5317e-05 - val_loss: 0.0043\n",
            "Epoch 23/100\n",
            "12/12 [==============================] - 1s 89ms/step - loss: 6.6487e-05 - val_loss: 0.0035\n",
            "Epoch 24/100\n",
            "12/12 [==============================] - 1s 89ms/step - loss: 5.6953e-05 - val_loss: 0.0034\n",
            "Epoch 25/100\n",
            "12/12 [==============================] - 1s 90ms/step - loss: 6.3235e-05 - val_loss: 0.0034\n",
            "Epoch 26/100\n",
            "12/12 [==============================] - 1s 90ms/step - loss: 7.1502e-05 - val_loss: 0.0042\n",
            "Epoch 27/100\n",
            "12/12 [==============================] - 1s 88ms/step - loss: 7.6115e-05 - val_loss: 0.0061\n",
            "Epoch 28/100\n",
            "12/12 [==============================] - 1s 91ms/step - loss: 5.9276e-05 - val_loss: 0.0057\n",
            "Epoch 29/100\n",
            "12/12 [==============================] - 1s 89ms/step - loss: 5.6384e-05 - val_loss: 0.0045\n",
            "Epoch 30/100\n",
            "12/12 [==============================] - 1s 90ms/step - loss: 5.4008e-05 - val_loss: 0.0032\n",
            "Epoch 31/100\n",
            "12/12 [==============================] - 1s 90ms/step - loss: 5.5644e-05 - val_loss: 0.0031\n",
            "Epoch 32/100\n",
            "12/12 [==============================] - 1s 90ms/step - loss: 5.5913e-05 - val_loss: 0.0047\n",
            "Epoch 33/100\n",
            "12/12 [==============================] - 1s 90ms/step - loss: 5.1276e-05 - val_loss: 0.0048\n",
            "Epoch 34/100\n",
            "12/12 [==============================] - 1s 90ms/step - loss: 5.1246e-05 - val_loss: 0.0033\n",
            "Epoch 35/100\n",
            "12/12 [==============================] - 1s 89ms/step - loss: 5.1885e-05 - val_loss: 0.0033\n",
            "Epoch 36/100\n",
            "12/12 [==============================] - 1s 90ms/step - loss: 4.8689e-05 - val_loss: 0.0021\n",
            "Epoch 37/100\n",
            "12/12 [==============================] - 1s 92ms/step - loss: 4.5720e-05 - val_loss: 0.0032\n",
            "Epoch 38/100\n",
            "12/12 [==============================] - 1s 90ms/step - loss: 5.0768e-05 - val_loss: 0.0014\n",
            "Epoch 39/100\n",
            "12/12 [==============================] - 1s 89ms/step - loss: 5.4611e-05 - val_loss: 7.3485e-04\n",
            "Epoch 40/100\n",
            "12/12 [==============================] - 1s 90ms/step - loss: 5.7400e-05 - val_loss: 0.0022\n",
            "Epoch 41/100\n",
            "12/12 [==============================] - 1s 91ms/step - loss: 5.8277e-05 - val_loss: 0.0040\n",
            "Epoch 42/100\n",
            "12/12 [==============================] - 1s 88ms/step - loss: 5.2404e-05 - val_loss: 0.0021\n",
            "Epoch 43/100\n",
            "12/12 [==============================] - 1s 89ms/step - loss: 4.9796e-05 - val_loss: 0.0025\n",
            "Epoch 44/100\n",
            "12/12 [==============================] - 1s 90ms/step - loss: 4.5959e-05 - val_loss: 0.0023\n",
            "Epoch 45/100\n",
            "12/12 [==============================] - 1s 89ms/step - loss: 5.2024e-05 - val_loss: 0.0021\n",
            "Epoch 46/100\n",
            "12/12 [==============================] - 1s 90ms/step - loss: 5.3072e-05 - val_loss: 6.1851e-04\n",
            "Epoch 47/100\n",
            "12/12 [==============================] - 1s 89ms/step - loss: 4.5296e-05 - val_loss: 6.1882e-04\n",
            "Epoch 48/100\n",
            "12/12 [==============================] - 1s 90ms/step - loss: 4.2627e-05 - val_loss: 5.9292e-04\n",
            "Epoch 49/100\n",
            "12/12 [==============================] - 1s 90ms/step - loss: 4.2146e-05 - val_loss: 7.7120e-04\n",
            "Epoch 50/100\n",
            "12/12 [==============================] - 1s 89ms/step - loss: 4.0749e-05 - val_loss: 0.0014\n",
            "Epoch 51/100\n",
            "12/12 [==============================] - 1s 89ms/step - loss: 4.0547e-05 - val_loss: 9.5848e-04\n",
            "Epoch 52/100\n",
            "12/12 [==============================] - 1s 89ms/step - loss: 4.0562e-05 - val_loss: 8.9817e-04\n",
            "Epoch 53/100\n",
            "12/12 [==============================] - 1s 89ms/step - loss: 4.1024e-05 - val_loss: 7.7453e-04\n",
            "Epoch 54/100\n",
            "12/12 [==============================] - 1s 89ms/step - loss: 4.1309e-05 - val_loss: 8.2692e-04\n",
            "Epoch 55/100\n",
            "12/12 [==============================] - 1s 89ms/step - loss: 3.9722e-05 - val_loss: 5.7476e-04\n",
            "Epoch 56/100\n",
            "12/12 [==============================] - 1s 91ms/step - loss: 4.0386e-05 - val_loss: 6.1116e-04\n",
            "Epoch 57/100\n",
            "12/12 [==============================] - 1s 90ms/step - loss: 3.7586e-05 - val_loss: 5.8684e-04\n",
            "Epoch 58/100\n",
            "12/12 [==============================] - 1s 90ms/step - loss: 3.9740e-05 - val_loss: 0.0012\n",
            "Epoch 59/100\n",
            "12/12 [==============================] - 1s 89ms/step - loss: 3.9215e-05 - val_loss: 5.3886e-04\n",
            "Epoch 60/100\n",
            "12/12 [==============================] - 1s 91ms/step - loss: 3.9673e-05 - val_loss: 0.0014\n",
            "Epoch 61/100\n",
            "12/12 [==============================] - 1s 90ms/step - loss: 3.9986e-05 - val_loss: 8.2408e-04\n",
            "Epoch 62/100\n",
            "12/12 [==============================] - 1s 89ms/step - loss: 3.8640e-05 - val_loss: 7.7273e-04\n",
            "Epoch 63/100\n",
            "12/12 [==============================] - 1s 90ms/step - loss: 3.5925e-05 - val_loss: 6.1626e-04\n",
            "Epoch 64/100\n",
            "12/12 [==============================] - 1s 89ms/step - loss: 3.6108e-05 - val_loss: 5.2976e-04\n",
            "Epoch 65/100\n",
            "12/12 [==============================] - 1s 90ms/step - loss: 3.8225e-05 - val_loss: 5.6726e-04\n",
            "Epoch 66/100\n",
            "12/12 [==============================] - 1s 88ms/step - loss: 4.6766e-05 - val_loss: 7.0450e-04\n",
            "Epoch 67/100\n",
            "12/12 [==============================] - 1s 90ms/step - loss: 6.8998e-05 - val_loss: 0.0012\n",
            "Epoch 68/100\n",
            "12/12 [==============================] - 1s 90ms/step - loss: 4.4291e-05 - val_loss: 5.7969e-04\n",
            "Epoch 69/100\n",
            "12/12 [==============================] - 1s 90ms/step - loss: 3.7167e-05 - val_loss: 5.9436e-04\n",
            "Epoch 70/100\n",
            "12/12 [==============================] - 1s 91ms/step - loss: 3.7748e-05 - val_loss: 6.1707e-04\n",
            "Epoch 71/100\n",
            "12/12 [==============================] - 1s 89ms/step - loss: 3.3957e-05 - val_loss: 0.0013\n",
            "Epoch 72/100\n",
            "12/12 [==============================] - 1s 89ms/step - loss: 3.4412e-05 - val_loss: 6.8723e-04\n",
            "Epoch 73/100\n",
            "12/12 [==============================] - 1s 91ms/step - loss: 3.3651e-05 - val_loss: 0.0014\n",
            "Epoch 74/100\n",
            "12/12 [==============================] - 1s 90ms/step - loss: 3.6014e-05 - val_loss: 7.8016e-04\n",
            "Epoch 75/100\n",
            "12/12 [==============================] - 1s 89ms/step - loss: 3.7260e-05 - val_loss: 0.0017\n",
            "Epoch 76/100\n",
            "12/12 [==============================] - 1s 89ms/step - loss: 3.7962e-05 - val_loss: 0.0011\n",
            "Epoch 77/100\n",
            "12/12 [==============================] - 1s 91ms/step - loss: 3.6079e-05 - val_loss: 0.0014\n",
            "Epoch 78/100\n",
            "12/12 [==============================] - 1s 89ms/step - loss: 3.5298e-05 - val_loss: 0.0013\n",
            "Epoch 79/100\n",
            "12/12 [==============================] - 1s 88ms/step - loss: 3.4155e-05 - val_loss: 7.0395e-04\n",
            "Epoch 80/100\n",
            "12/12 [==============================] - 1s 91ms/step - loss: 3.7206e-05 - val_loss: 0.0030\n",
            "Epoch 81/100\n",
            "12/12 [==============================] - 1s 91ms/step - loss: 3.8417e-05 - val_loss: 0.0011\n",
            "Epoch 82/100\n",
            "12/12 [==============================] - 1s 88ms/step - loss: 3.1850e-05 - val_loss: 0.0029\n",
            "Epoch 83/100\n",
            "12/12 [==============================] - 1s 88ms/step - loss: 3.1673e-05 - val_loss: 8.9086e-04\n",
            "Epoch 84/100\n",
            "12/12 [==============================] - 1s 90ms/step - loss: 3.6508e-05 - val_loss: 0.0013\n",
            "Epoch 85/100\n",
            "12/12 [==============================] - 1s 89ms/step - loss: 3.1528e-05 - val_loss: 0.0033\n",
            "Epoch 86/100\n",
            "12/12 [==============================] - 1s 89ms/step - loss: 3.2643e-05 - val_loss: 0.0013\n",
            "Epoch 87/100\n",
            "12/12 [==============================] - 1s 90ms/step - loss: 3.4445e-05 - val_loss: 0.0031\n",
            "Epoch 88/100\n",
            "12/12 [==============================] - 1s 90ms/step - loss: 3.2384e-05 - val_loss: 0.0022\n",
            "Epoch 89/100\n",
            "12/12 [==============================] - 1s 88ms/step - loss: 2.9179e-05 - val_loss: 0.0029\n",
            "Epoch 90/100\n",
            "12/12 [==============================] - 1s 89ms/step - loss: 3.0091e-05 - val_loss: 0.0024\n",
            "Epoch 91/100\n",
            "12/12 [==============================] - 1s 89ms/step - loss: 2.8921e-05 - val_loss: 0.0041\n",
            "Epoch 92/100\n",
            "12/12 [==============================] - 1s 90ms/step - loss: 3.3013e-05 - val_loss: 0.0017\n",
            "Epoch 93/100\n",
            "12/12 [==============================] - 1s 89ms/step - loss: 2.9544e-05 - val_loss: 0.0044\n",
            "Epoch 94/100\n",
            "12/12 [==============================] - 1s 89ms/step - loss: 3.4271e-05 - val_loss: 0.0016\n",
            "Epoch 95/100\n",
            "12/12 [==============================] - 1s 92ms/step - loss: 3.5743e-05 - val_loss: 0.0037\n",
            "Epoch 96/100\n",
            "12/12 [==============================] - 1s 89ms/step - loss: 3.2073e-05 - val_loss: 0.0029\n",
            "Epoch 97/100\n",
            "12/12 [==============================] - 1s 91ms/step - loss: 2.7635e-05 - val_loss: 0.0030\n",
            "Epoch 98/100\n",
            "12/12 [==============================] - 1s 92ms/step - loss: 2.7201e-05 - val_loss: 0.0033\n",
            "Epoch 99/100\n",
            "12/12 [==============================] - 1s 91ms/step - loss: 3.1676e-05 - val_loss: 0.0048\n",
            "Epoch 100/100\n",
            "12/12 [==============================] - 1s 91ms/step - loss: 3.2611e-05 - val_loss: 0.0036\n"
          ]
        },
        {
          "output_type": "execute_result",
          "data": {
            "text/plain": [
              "<keras.callbacks.History at 0x7f7ad8b00450>"
            ]
          },
          "metadata": {},
          "execution_count": 64
        }
      ]
    },
    {
      "cell_type": "code",
      "metadata": {
        "id": "N1-36GukbZeo"
      },
      "source": [
        "### Lets Do the prediction and check performance metrics\n",
        "train_predict2=a.predict(X_train2)\n",
        "test_predict2=a.predict(X_test2)"
      ],
      "execution_count": 65,
      "outputs": []
    },
    {
      "cell_type": "code",
      "metadata": {
        "id": "-gfPg0ZYbtaQ"
      },
      "source": [
        "##Transformback to original form\n",
        "train_predict2=scaler.inverse_transform(train_predict2)\n",
        "test_predict2=scaler.inverse_transform(test_predict2)"
      ],
      "execution_count": 66,
      "outputs": []
    },
    {
      "cell_type": "code",
      "metadata": {
        "id": "5y1-7Kpkb39y",
        "colab": {
          "base_uri": "https://localhost:8080/"
        },
        "outputId": "2afdf064-ed66-4e8e-973e-1f2a35324fde"
      },
      "source": [
        "### Calculate RMSE performance metrics\n",
        "import math\n",
        "from sklearn.metrics import mean_squared_error\n",
        "math.sqrt(mean_squared_error(y_train2,train_predict2))"
      ],
      "execution_count": 67,
      "outputs": [
        {
          "output_type": "execute_result",
          "data": {
            "text/plain": [
              "33.00458093784092"
            ]
          },
          "metadata": {},
          "execution_count": 67
        }
      ]
    },
    {
      "cell_type": "code",
      "metadata": {
        "id": "Qni02Y4fcBwd",
        "colab": {
          "base_uri": "https://localhost:8080/"
        },
        "outputId": "3d9eace6-0cad-4ccb-db97-33eb1903c097"
      },
      "source": [
        "### Test Data RMSE\n",
        "math.sqrt(mean_squared_error(ytest2,test_predict2))"
      ],
      "execution_count": 68,
      "outputs": [
        {
          "output_type": "execute_result",
          "data": {
            "text/plain": [
              "115.7197956440538"
            ]
          },
          "metadata": {},
          "execution_count": 68
        }
      ]
    },
    {
      "cell_type": "code",
      "metadata": {
        "id": "ADnNVR-NcIDt",
        "colab": {
          "base_uri": "https://localhost:8080/",
          "height": 308
        },
        "outputId": "de3f2529-4040-45f5-c76c-9543c5a5ae15"
      },
      "source": [
        "### Plotting \n",
        "# shift train predictions for plotting\n",
        "look_back=100\n",
        "trainPredictPlot2 = numpy.empty_like(df2)\n",
        "trainPredictPlot2[:, :] = np.nan\n",
        "trainPredictPlot2[look_back:len(train_predict2)+look_back, :] = train_predict2\n",
        "# shift test predictions for plotting\n",
        "testPredictPlot2 = numpy.empty_like(df2)\n",
        "testPredictPlot2[:, :] = numpy.nan\n",
        "testPredictPlot2[len(train_predict2)+(look_back*2)+1:len(df2)-1, :] = test_predict2\n",
        "# plot baseline and predictions\n",
        "plt.plot(scaler.inverse_transform(df2))\n",
        "plt.plot(trainPredictPlot2)\n",
        "plt.plot(testPredictPlot2)\n",
        "plt.ylabel('price')\n",
        "plt.xlabel('Days')\n",
        "plt.suptitle('Apple')\n",
        "#plt.legend(testPredictPlot2)\n",
        "plt.show()"
      ],
      "execution_count": 109,
      "outputs": [
        {
          "output_type": "display_data",
          "data": {
            "image/png": "[encoded data removed]",
            "text/plain": [
              "<Figure size 432x288 with 1 Axes>"
            ]
          },
          "metadata": {
            "needs_background": "light"
          }
        }
      ]
    },
    {
      "cell_type": "code",
      "metadata": {
        "id": "06MNnJWqcOjF",
        "colab": {
          "base_uri": "https://localhost:8080/"
        },
        "outputId": "1b023f68-9f54-4c50-c0d0-ef80bd29f943"
      },
      "source": [
        "len(test_data2)"
      ],
      "execution_count": 70,
      "outputs": [
        {
          "output_type": "execute_result",
          "data": {
            "text/plain": [
              "705"
            ]
          },
          "metadata": {},
          "execution_count": 70
        }
      ]
    },
    {
      "cell_type": "code",
      "metadata": {
        "id": "waF5XdcvcT1r",
        "colab": {
          "base_uri": "https://localhost:8080/"
        },
        "outputId": "28711e04-c31e-4d69-dbb1-a2b15e1d205a"
      },
      "source": [
        "x_input2=test_data2[605:].reshape(1,-1)    #test size - last 100 day (test data lenght - 100)\n",
        "x_input2.shape"
      ],
      "execution_count": 71,
      "outputs": [
        {
          "output_type": "execute_result",
          "data": {
            "text/plain": [
              "(1, 100)"
            ]
          },
          "metadata": {},
          "execution_count": 71
        }
      ]
    },
    {
      "cell_type": "code",
      "metadata": {
        "id": "jPulzOUacca1"
      },
      "source": [
        "temp_input2=list(x_input2)\n",
        "temp_input2=temp_input2[0].tolist()"
      ],
      "execution_count": 72,
      "outputs": []
    },
    {
      "cell_type": "code",
      "metadata": {
        "id": "ZIdM0Wm0clUE",
        "colab": {
          "base_uri": "https://localhost:8080/"
        },
        "outputId": "869d8d46-d975-45e6-9daf-ea32f4474347"
      },
      "source": [
        "len(temp_input2)"
      ],
      "execution_count": 73,
      "outputs": [
        {
          "output_type": "execute_result",
          "data": {
            "text/plain": [
              "100"
            ]
          },
          "metadata": {},
          "execution_count": 73
        }
      ]
    },
    {
      "cell_type": "code",
      "metadata": {
        "id": "OSiCTY1BcrKc",
        "colab": {
          "base_uri": "https://localhost:8080/"
        },
        "outputId": "48d39e9f-9789-45ac-9907-934587e511de"
      },
      "source": [
        "# demonstrate prediction for next 30 days\n",
        "from numpy import array\n",
        "\n",
        "lst_output2=[]\n",
        "n_steps=100\n",
        "i=0\n",
        "while(i<30):         \n",
        "    \n",
        "    if(len(temp_input2)>100):\n",
        "        #print(temp_input)\n",
        "        x_input2=np.array(temp_input2[1:])\n",
        "        #print(\"{} day input {}\".format(i,x_input2))\n",
        "        x_input2=x_input2.reshape(1,-1)\n",
        "        x_input2 = x_input2.reshape((1, n_steps, 1))\n",
        "        #print(x_input)\n",
        "        yhat2 = a.predict(x_input2, verbose=0)\n",
        "        print(\"{} day output {}\".format(i,yhat))\n",
        "        temp_input2.extend(yhat2[0].tolist())\n",
        "        temp_input2=temp_input2[1:]\n",
        "        #print(temp_input)\n",
        "        lst_output2.extend(yhat2.tolist())\n",
        "        i=i+1\n",
        "    else:\n",
        "        x_input2 = x_input2.reshape((1, n_steps,1))\n",
        "        yhat2 = a.predict(x_input2, verbose=0)\n",
        "        print(yhat2[0])\n",
        "        temp_input2.extend(yhat2[0].tolist())\n",
        "        print(len(temp_input2))\n",
        "        lst_output2.extend(yhat2.tolist())\n",
        "        i=i+1\n",
        "    \n",
        "\n",
        "print(lst_output2)"
      ],
      "execution_count": 74,
      "outputs": [
        {
          "output_type": "stream",
          "name": "stdout",
          "text": [
            "[1.1287696]\n",
            "101\n",
            "1 day output [[0.61067027]]\n",
            "2 day output [[0.61067027]]\n",
            "3 day output [[0.61067027]]\n",
            "4 day output [[0.61067027]]\n",
            "5 day output [[0.61067027]]\n",
            "6 day output [[0.61067027]]\n",
            "7 day output [[0.61067027]]\n",
            "8 day output [[0.61067027]]\n",
            "9 day output [[0.61067027]]\n",
            "10 day output [[0.61067027]]\n",
            "11 day output [[0.61067027]]\n",
            "12 day output [[0.61067027]]\n",
            "13 day output [[0.61067027]]\n",
            "14 day output [[0.61067027]]\n",
            "15 day output [[0.61067027]]\n",
            "16 day output [[0.61067027]]\n",
            "17 day output [[0.61067027]]\n",
            "18 day output [[0.61067027]]\n",
            "19 day output [[0.61067027]]\n",
            "20 day output [[0.61067027]]\n",
            "21 day output [[0.61067027]]\n",
            "22 day output [[0.61067027]]\n",
            "23 day output [[0.61067027]]\n",
            "24 day output [[0.61067027]]\n",
            "25 day output [[0.61067027]]\n",
            "26 day output [[0.61067027]]\n",
            "27 day output [[0.61067027]]\n",
            "28 day output [[0.61067027]]\n",
            "29 day output [[0.61067027]]\n",
            "[[1.1287696361541748], [1.1640516519546509], [1.219146490097046], [1.285949945449829], [1.3602824211120605], [1.4400393962860107], [1.523886799812317], [1.610613465309143], [1.6988866329193115], [1.787229299545288], [1.8740851879119873], [1.9579432010650635], [2.0374603271484375], [2.1115684509277344], [2.1795387268066406], [2.2409956455230713], [2.2958884239196777], [2.3444337844848633], [2.387040615081787], [2.4242372512817383], [2.456608295440674], [2.484745502471924], [2.5092086791992188], [2.530510425567627], [2.5491013526916504], [2.5653719902038574], [2.579651117324829], [2.592217445373535], [2.603302240371704], [2.6130988597869873]]\n"
          ]
        }
      ]
    },
    {
      "cell_type": "code",
      "metadata": {
        "id": "jFM0Jb2Hcy5F",
        "colab": {
          "base_uri": "https://localhost:8080/",
          "height": 35
        },
        "outputId": "615739b0-4cd9-45a5-a826-ac35a383f80d"
      },
      "source": [
        "\"\"\"day_new=np.arange(1,101)    #previous 100 data\n",
        "day_pred=np.arange(101,131)  # prediction for next 30 days after first 100 days\"\"\""
      ],
      "execution_count": 75,
      "outputs": [
        {
          "output_type": "execute_result",
          "data": {
            "application/vnd.google.colaboratory.intrinsic+json": {
              "type": "string"
            },
            "text/plain": [
              "'day_new=np.arange(1,101)    #previous 100 data\\nday_pred=np.arange(101,131)  # prediction for next 30 days after first 100 days'"
            ]
          },
          "metadata": {},
          "execution_count": 75
        }
      ]
    },
    {
      "cell_type": "code",
      "metadata": {
        "id": "nGrShgfuc357",
        "colab": {
          "base_uri": "https://localhost:8080/"
        },
        "outputId": "048a8e40-b2b7-4628-9bc1-86f3580b1dff"
      },
      "source": [
        "len(df2)"
      ],
      "execution_count": 76,
      "outputs": [
        {
          "output_type": "execute_result",
          "data": {
            "text/plain": [
              "2014"
            ]
          },
          "metadata": {},
          "execution_count": 76
        }
      ]
    },
    {
      "cell_type": "code",
      "metadata": {
        "id": "UqaJiyBZdByK",
        "colab": {
          "base_uri": "https://localhost:8080/",
          "height": 283
        },
        "outputId": "30ca4500-9747-4864-af04-18d8101102be"
      },
      "source": [
        "plt.plot(day_new,scaler.inverse_transform(df2[1914:]))   # input number to see from  last 100 days graph\n",
        "plt.plot(day_pred,scaler.inverse_transform(lst_output2),'r')"
      ],
      "execution_count": 77,
      "outputs": [
        {
          "output_type": "execute_result",
          "data": {
            "text/plain": [
              "[<matplotlib.lines.Line2D at 0x7f7aff087e50>]"
            ]
          },
          "metadata": {},
          "execution_count": 77
        },
        {
          "output_type": "display_data",
          "data": {
            "image/png": "[encoded data removed]",
            "text/plain": [
              "<Figure size 432x288 with 1 Axes>"
            ]
          },
          "metadata": {
            "needs_background": "light"
          }
        }
      ]
    },
    {
      "cell_type": "code",
      "metadata": {
        "id": "ubhFOm-NdFeU",
        "colab": {
          "base_uri": "https://localhost:8080/",
          "height": 283
        },
        "outputId": "0480c288-c29c-4f2f-ca94-3813c8fa9a65"
      },
      "source": [
        "df4=df2.tolist()\n",
        "df4.extend(lst_output2)\n",
        "plt.plot(df4[1210:],'g')   # input number to see from where want to see graph"
      ],
      "execution_count": 78,
      "outputs": [
        {
          "output_type": "execute_result",
          "data": {
            "text/plain": [
              "[<matplotlib.lines.Line2D at 0x7f7aff0ca510>]"
            ]
          },
          "metadata": {},
          "execution_count": 78
        },
        {
          "output_type": "display_data",
          "data": {
            "image/png": "[encoded data removed]",
            "text/plain": [
              "<Figure size 432x288 with 1 Axes>"
            ]
          },
          "metadata": {
            "needs_background": "light"
          }
        }
      ]
    },
    {
      "cell_type": "code",
      "metadata": {
        "id": "R7W59j8ZdY-R"
      },
      "source": [
        "df4=scaler.inverse_transform(df4).tolist()"
      ],
      "execution_count": 79,
      "outputs": []
    },
    {
      "cell_type": "code",
      "metadata": {
        "id": "DMw1g4n_dkD8"
      },
      "source": [
        "#plt.plot(df4,'g-')  # combined graph"
      ],
      "execution_count": 80,
      "outputs": []
    },
    {
      "cell_type": "code",
      "metadata": {
        "id": "Yt6P13tAi2Au",
        "colab": {
          "base_uri": "https://localhost:8080/",
          "height": 325
        },
        "outputId": "5c26a246-a32f-4663-9899-bfb5d01e4683"
      },
      "source": [
        "plt.ylabel('price')\n",
        "plt.xlabel('Days')\n",
        "plt.suptitle('Apple')\n",
        "plt.plot(df4)\n"
      ],
      "execution_count": 108,
      "outputs": [
        {
          "output_type": "execute_result",
          "data": {
            "text/plain": [
              "[<matplotlib.lines.Line2D at 0x7f7ad8b0d510>]"
            ]
          },
          "metadata": {},
          "execution_count": 108
        },
        {
          "output_type": "display_data",
          "data": {
            "image/png": "[encoded data removed]",
            "text/plain": [
              "<Figure size 432x288 with 1 Axes>"
            ]
          },
          "metadata": {
            "needs_background": "light"
          }
        }
      ]
    },
    {
      "cell_type": "code",
      "metadata": {
        "id": "dB_bH3ULzEkv"
      },
      "source": [
        ""
      ],
      "execution_count": 81,
      "outputs": []
    }
  ]
}